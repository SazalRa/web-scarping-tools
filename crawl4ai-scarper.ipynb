{
 "cells": [
  {
   "cell_type": "code",
   "execution_count": null,
   "id": "472a0138-9e6f-4f91-8c5b-a8cc46223d67",
   "metadata": {},
   "outputs": [],
   "source": [
    "import asyncio\n",
    "from crawl4ai import AsyncWebCrawler\n",
    "from playwright.async_api import async_playwright \n",
    "async def main():\n",
    "    async with AsyncWebCrawler() as crawler:\n",
    "        # AsyncWebCrawler launches a headless browser (Chromium by default)\n",
    "        result = await crawler.arun(\"https://www.prothomalo.com/collection/latest\")\n",
    "        # Crawl4AI automatically converts the HTML into Markdown.\n",
    "        print(result.markdown[:300])\n",
    "\n",
    "await main();\n",
    "        "
   ]
  },
  {
   "cell_type": "code",
   "execution_count": null,
   "id": "c36119aa-aee1-4c3b-82ed-930d804e8392",
   "metadata": {},
   "outputs": [],
   "source": [
    "# Browser Config\n",
    "import asyncio\n",
    "from crawl4ai import AsyncWebCrawler, BrowserConfig, CrawlerRunConfig, CacheMode\n",
    "\n",
    "async def main_config():\n",
    "    #browser_conf = BrowserConfig(headless=True)\n",
    "    browser_conf = await p.chromium.launch(headless=True)\n",
    "    run_conf = CrawlerRunConfig(\n",
    "        cache_mode=CacheMode.BYPASS\n",
    "    )\n",
    "    async with AsyncWebCrawler(config=browser_conf) as crawler:\n",
    "        result = await crawler.arun(\n",
    "            url=\"https://somoy.tv\",\n",
    "            config=run_conf\n",
    "        )\n",
    "        print(result.markdown)\n",
    "\n",
    "#await main_config()"
   ]
  },
  {
   "cell_type": "code",
   "execution_count": null,
   "id": "45b9bca6-3d5f-4470-83d6-71f576c230cb",
   "metadata": {},
   "outputs": [],
   "source": [
    "# Generating Markdown Output\n",
    "from crawl4ai import AsyncWebCrawler, CrawlerRunConfig\n",
    "from crawl4ai.content_filter_strategy import PruningContentFilter\n",
    "from crawl4ai.markdown_generation_strategy import DefaultMarkdownGenerator\n",
    "\n",
    "md_generator = DefaultMarkdownGenerator(\n",
    "    content_filter=PruningContentFilter(threshold=0.4, threshold_type=\"fixed\")\n",
    ")\n",
    "\n",
    "config = CrawlerRunConfig(\n",
    "    cache_mode=CacheMode.BYPASS,\n",
    "    markdown_generator=md_generator\n",
    ")\n",
    "\n",
    "async with AsyncWebCrawler() as crawler:\n",
    "    result = await crawler.arun(\"https://news.ycombinator.com\", config=config)\n",
    "    print(\"Raw Markdown length:\", len(result.markdown.raw_markdown))\n",
    "    print(\"Fit Markdown length:\", len(result.markdown.fit_markdown))"
   ]
  },
  {
   "cell_type": "code",
   "execution_count": null,
   "id": "e419c3e9-1aa6-40ae-9594-9d7758a62091",
   "metadata": {},
   "outputs": [],
   "source": [
    "# 5. Simple Data Extraction (CSS-based)\n",
    "\n",
    "from crawl4ai.extraction_strategy import JsonCssExtractionStrategy\n",
    "from crawl4ai import LLMConfig\n",
    "\n",
    "# Generate a schema (one-time cost)\n",
    "html = \"<div class='product'><h2>Gaming Laptop</h2><span class='price'>$999.99</span></div>\"\n",
    "\n",
    "# Using OpenAI (requires API token)\n",
    "#schema = JsonCssExtractionStrategy.generate_schema(\n",
    "#    html,\n",
    "#    llm_config = LLMConfig(provider=\"openai/gpt-4o\",api_token=\"your-openai-token\")  # Required for OpenAI\n",
    "#)\n",
    "\n",
    "# Or using Ollama (open source, no token needed)\n",
    "schema = JsonCssExtractionStrategy.generate_schema(\n",
    "    html,\n",
    "    llm_config = LLMConfig(provider=\"ollama/llama3.3\", api_token=None)  # Not needed for Ollama\n",
    ")\n",
    "\n",
    "# Use the schema for fast, repeated extractions\n",
    "strategy = JsonCssExtractionStrategy(schema)"
   ]
  },
  {
   "cell_type": "code",
   "execution_count": null,
   "id": "8f0ef3da-82db-4f98-9c65-d9b54dee6aaf",
   "metadata": {},
   "outputs": [],
   "source": []
  }
 ],
 "metadata": {
  "kernelspec": {
   "display_name": "Python 3 (ipykernel)",
   "language": "python",
   "name": "python3"
  },
  "language_info": {
   "codemirror_mode": {
    "name": "ipython",
    "version": 3
   },
   "file_extension": ".py",
   "mimetype": "text/x-python",
   "name": "python",
   "nbconvert_exporter": "python",
   "pygments_lexer": "ipython3",
   "version": "3.12.4"
  }
 },
 "nbformat": 4,
 "nbformat_minor": 5
}
