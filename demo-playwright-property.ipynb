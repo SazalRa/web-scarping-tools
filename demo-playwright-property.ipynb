{
 "cells": [
  {
   "cell_type": "code",
   "execution_count": 1,
   "id": "a2618c83-8e4d-448b-82b5-3a50c55ba9f5",
   "metadata": {},
   "outputs": [],
   "source": [
    "#from crawl4ai import AsyncWebCrawler"
   ]
  },
  {
   "cell_type": "code",
   "execution_count": 2,
   "id": "e9216b63-86c7-4209-aa1a-018973c67b6e",
   "metadata": {},
   "outputs": [],
   "source": [
    "#crawler = AsyncWebCrawler()"
   ]
  },
  {
   "cell_type": "code",
   "execution_count": 35,
   "id": "ca8f0182-a4e7-4470-881f-c808bf0082fa",
   "metadata": {},
   "outputs": [
    {
     "name": "stdout",
     "output_type": "stream",
     "text": [
      "Opening Bayut...\n",
      "\n",
      " Found 24 listings\n",
      " Swimming Pool I Legacy Large I One Bed Downstairs - 4 Beds - 5 Baths - 4,335 sqft\n",
      " Jumeirah Park, Dubai\n",
      " https://www.bayut.com/property/details-11249250.html\n",
      "\n",
      " District 2 I Internal Location I Legacy Type - 5 Beds - 6 Baths - 4,687 sqft\n",
      " Jumeirah Park, Dubai\n",
      " https://www.bayut.com/property/details-11019996.html\n",
      "\n",
      " Exclusive | Pool Facing | VOT | Viewing Available - 3 Beds - 5 Baths - 1,574 sqft\n",
      " Al Furjan, Dubai\n",
      " https://www.bayut.com/property/details-10883196.html\n",
      "\n",
      " Motivated Seller | Lake View | Balcony - 2 Beds - 2 Baths - 934 sqft\n",
      " Jumeirah Lake Towers (JLT), Dubai\n",
      " https://www.bayut.com/property/details-11193940.html\n",
      "\n",
      " Exclusive | Vacant | Perfect Condition - 5 Beds - 6 Baths - 9,543 sqft\n",
      " Green Community, Dubai\n",
      " https://www.bayut.com/property/details-11258993.html\n",
      "\n"
     ]
    }
   ],
   "source": [
    "import asyncio\n",
    "import json\n",
    "from playwright.async_api import async_playwright\n",
    "from playwright_stealth import stealth_async\n",
    "\n",
    "async def crawl_bayut():\n",
    "    async with async_playwright() as p:\n",
    "        browser = await p.chromium.launch(headless=False)\n",
    "        context = await browser.new_context()\n",
    "        page = await context.new_page()\n",
    "        await stealth_async(page)\n",
    "\n",
    "        print(\"Opening Bayut...\")\n",
    "        await page.goto(\"https://www.bayut.com/for-sale/property/dubai/\", timeout=90000)\n",
    "        await page.wait_for_timeout(8000)\n",
    "\n",
    "       \n",
    "        for _ in range(5):\n",
    "            await page.mouse.wheel(0, 2000)\n",
    "            await page.wait_for_timeout(2000)\n",
    "\n",
    "       \n",
    "        scripts = await page.locator(\"li[role='article'] script[type='application/ld+json']\").all()\n",
    "\n",
    "        results = []\n",
    "        for script in scripts:\n",
    "            json_text = await script.inner_text()\n",
    "            try:\n",
    "                data = json.loads(json_text)\n",
    "                results.append({\n",
    "                    \"title\": data.get(\"name\"),\n",
    "                    \"url\": data.get(\"url\"),\n",
    "                    \"bedrooms\": data.get(\"numberOfRooms\", {}).get(\"value\"),\n",
    "                    \"bathrooms\": data.get(\"numberOfBathroomsTotal\"),\n",
    "                    \"area\": data.get(\"floorSize\", {}).get(\"value\"),\n",
    "                    \"location\": data.get(\"address\", {}).get(\"addressLocality\"),\n",
    "                    \"region\": data.get(\"address\", {}).get(\"addressRegion\"),\n",
    "                    \"image\": data.get(\"image\")\n",
    "                })\n",
    "            except Exception as e:\n",
    "                print(\" Failed to parse JSON:\", e)\n",
    "\n",
    "        print(f\"\\n Found {len(results)} listings\")\n",
    "        for r in results[:5]:  # Show first 5\n",
    "            print(f\" {r['title']} - {r['bedrooms']} Beds - {r['bathrooms']} Baths - {r['area']} sqft\")\n",
    "            print(f\" {r['location']}, {r['region']}\")\n",
    "            print(f\" {r['url']}\")\n",
    "            print()\n",
    "\n",
    "        await browser.close()\n",
    "\n",
    "await crawl_bayut()\n"
   ]
  },
  {
   "cell_type": "code",
   "execution_count": null,
   "id": "53203591-fd53-4d5e-b075-71a6347f606c",
   "metadata": {},
   "outputs": [],
   "source": []
  }
 ],
 "metadata": {
  "kernelspec": {
   "display_name": "Python 3 (ipykernel)",
   "language": "python",
   "name": "python3"
  },
  "language_info": {
   "codemirror_mode": {
    "name": "ipython",
    "version": 3
   },
   "file_extension": ".py",
   "mimetype": "text/x-python",
   "name": "python",
   "nbconvert_exporter": "python",
   "pygments_lexer": "ipython3",
   "version": "3.12.4"
  }
 },
 "nbformat": 4,
 "nbformat_minor": 5
}
