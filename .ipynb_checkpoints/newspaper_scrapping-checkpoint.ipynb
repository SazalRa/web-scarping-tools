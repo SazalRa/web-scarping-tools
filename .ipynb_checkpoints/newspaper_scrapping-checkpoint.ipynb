{
 "cells": [
  {
   "cell_type": "code",
   "execution_count": 19,
   "id": "b6a261ce-c153-4ab0-8aa0-1d0fe9b1a36d",
   "metadata": {},
   "outputs": [],
   "source": [
    "from playwright.async_api import async_playwright\n",
    "import asyncio"
   ]
  },
  {
   "cell_type": "code",
   "execution_count": 93,
   "id": "9d181a66-2c6e-406f-9b20-3fa27a16ee7d",
   "metadata": {},
   "outputs": [],
   "source": [
    "async def fetch_with_playwright():\n",
    "    news_list = []\n",
    "    async with async_playwright() as p:\n",
    "        browser = await p.chromium.launch(headless=False)\n",
    "        \n",
    "        page = await browser.new_page()\n",
    "        await page.set_extra_http_headers({\n",
    "            \"User-Agent\": \"Mozilla/5.0 (Windows NT 10.0; Win64; x64) AppleWebKit/537.36 (KHTML, like Gecko) Chrome/134.0.0.0 Safari/537.36\"\n",
    "        })\n",
    "        await page.goto(\"https://www.prothomalo.com/collection/latest\", timeout=60000)\n",
    "        await page.wait_for_selector(\"#container\", timeout=15000)\n",
    "        #Wait for a card to appear inside container\n",
    "        await page.wait_for_selector(\"#container div.news_with_item\", timeout=10000)\n",
    "        elements = await page.locator(\"h3.headline-title\").all()\n",
    "        for el in elements:\n",
    "            link_el  =  el.locator(\"a.title-link\")\n",
    "            href = await link_el.get_attribute(\"href\")\n",
    "            title = (await el.inner_text()).strip()\n",
    "            news_list.append((title, href))\n",
    "            \n",
    "        await browser.close()\n",
    "    return news_list\n",
    "        #for i in range(articles.count())\n",
    "     "
   ]
  },
  {
   "cell_type": "code",
   "execution_count": null,
   "id": "81dd70af-0ce6-465a-897a-aeec1f81c42b",
   "metadata": {},
   "outputs": [],
   "source": []
  },
  {
   "cell_type": "code",
   "execution_count": 101,
   "id": "279e3bbf-2fa9-448b-b43e-a427b415bbde",
   "metadata": {},
   "outputs": [
    {
     "name": "stdout",
     "output_type": "stream",
     "text": [
      "href https://www.prothomalo.com/world/middle-east/h30mmwy3ri\n",
      "href https://www.prothomalo.com/bangladesh/district/vu5jm6wog4\n",
      "href https://www.prothomalo.com/bangladesh/j0kgz4eptq\n",
      "href https://www.prothomalo.com/bangladesh/crime/ku1z8irifz\n",
      "href https://www.prothomalo.com/bangladesh/district/qfnx390vyp\n",
      "href https://www.prothomalo.com/bangladesh/xmlr4lvbuq\n",
      "href https://www.prothomalo.com/business/industry/ic5yciikxi\n",
      "href https://www.prothomalo.com/world/middle-east/h30mmwy3ri\n",
      "href https://www.prothomalo.com/world/asia/s4cxg2vg1r\n",
      "href https://www.prothomalo.com/world/middle-east/3pbh7w0ykm\n",
      "href https://www.prothomalo.com/bangladesh/district/a7d12rl69h\n",
      "href https://www.prothomalo.com/lifestyle/health/sezn9ec35c\n",
      "href https://www.prothomalo.com/bangladesh/oqm4rqleih\n",
      "href https://www.prothomalo.com/bangladesh/lpmh877ybe\n",
      "href https://www.prothomalo.com/bangladesh/district/e1nr8vp3xs\n",
      "href https://www.prothomalo.com/bangladesh/xmlr4lvbuq\n",
      "href https://www.prothomalo.com/bangladesh/district/u6gy866znm\n",
      "href https://www.prothomalo.com/bangladesh/district/1j4wrwoow4\n",
      "href https://www.prothomalo.com/world/asia/s4cxg2vg1r\n",
      "href https://www.prothomalo.com/bangladesh/ex67u6b62h\n",
      "href https://www.prothomalo.com/bangladesh/district/uodlbiwedi\n",
      "href https://www.prothomalo.com/sports/cricket/0y2mpwkqjl\n",
      "href https://www.prothomalo.com/opinion/column/yh10x8ky0d\n",
      "href https://www.prothomalo.com/technology/science/1pu0bloqme\n",
      "href https://www.prothomalo.com/sports/cricket/cr8dd42xwc\n",
      "[('‘আমি নিতান্তই কোনো সংখ্যা হতে চাই না, আমি গাজার এক বাস্তব গল্প’', 'https://www.prothomalo.com/world/middle-east/h30mmwy3ri'), ('মুঠোফোনের চার্জার, এয়ারপডে লুকিয়ে আনেন কোটির টাকার সোনা, ধরা পড়লেন যেভাবে', 'https://www.prothomalo.com/bangladesh/district/vu5jm6wog4'), ('রাষ্ট্রপতি পুলিশ পদক পাচ্ছেন সেই পুলিশ কনস্টেবল', 'https://www.prothomalo.com/bangladesh/j0kgz4eptq'), ('অনলাইনে ‘আউটসোর্সিং’ কাজ দেওয়ার কথা বলে করতেন প্রতারণা', 'https://www.prothomalo.com/bangladesh/crime/ku1z8irifz'), ('চট্টগ্রাম ও কক্সবাজারে বিক্ষোভ মিছিল থেকে দোকান-রেস্তোরাঁয় হামলা-ভাঙচুর', 'https://www.prothomalo.com/bangladesh/district/qfnx390vyp'), ('আশিকুরের মৃত্যু ‘মাথায় গুলি নিয়াই ভাইটা মইরা গেল...চিকিৎসাও পাইল না’', 'https://www.prothomalo.com/bangladesh/xmlr4lvbuq'), ('পাল্টা শুল্ক তিন মাস স্থগিতের অনুরোধ করে ডোনাল্ড ট্রাম্পকে চিঠি দিলেন প্রধান উপদেষ্টা', 'https://www.prothomalo.com/business/industry/ic5yciikxi'), ('‘আমি নিতান্তই কোনো সংখ্যা হতে চাই না, আমি গাজার এক বাস্তব গল্প’', 'https://www.prothomalo.com/world/middle-east/h30mmwy3ri'), ('মার্কিন শুল্কনীতির ধাক্কায় এশিয়া ও ইউরোপের শেয়ারবাজারে বড় ধস', 'https://www.prothomalo.com/world/asia/s4cxg2vg1r'), ('ফিলিস্তিনি ভূখণ্ড দখল করে যেভাবে গড়ে উঠল ইসরায়েল রাষ্ট্র', 'https://www.prothomalo.com/world/middle-east/3pbh7w0ykm'), ('চট্টগ্রামে জোড়া খুন ‘সন্ত্রাসী’ সাজ্জাদের আরেক সহযোগী গ্রেপ্তার', 'https://www.prothomalo.com/bangladesh/district/a7d12rl69h'), ('শিশুরা কি সোশ্যাল অ্যাংজাইটিতে বেশি ভোগে?', 'https://www.prothomalo.com/lifestyle/health/sezn9ec35c'), ('মার্চে ১৬৩ জন নারী ও কন্যাশিশু ধর্ষণের শিকার হওয়ার খবর', 'https://www.prothomalo.com/bangladesh/oqm4rqleih'), ('বিয়ের প্রলোভনের মাধ্যমে যৌনকর্মে দণ্ডের বিধানের বৈধতা নিয়ে রিট', 'https://www.prothomalo.com/bangladesh/lpmh877ybe'), ('হবিগঞ্জে সাবেক সংসদ সদস্য ব্যারিস্টার সুমনের জামিন নামঞ্জুর, কারাগারে প্রেরণ', 'https://www.prothomalo.com/bangladesh/district/e1nr8vp3xs'), ('আশিকুরের মৃত্যু ‘মাথায় গুলি নিয়াই ভাইটা মইরা গেল...চিকিৎসাও পাইল না’', 'https://www.prothomalo.com/bangladesh/xmlr4lvbuq'), ('মাগুরায় শিশু ধর্ষণ ডিএনএ প্রতিবেদনে মূল অভিযুক্তের সংশ্লিষ্টতার প্রমাণ মিলেছে, শিগগিরই অভিযোগপত্র: রেঞ্জ ডিআইজি', 'https://www.prothomalo.com/bangladesh/district/u6gy866znm'), ('ভৈরবে ছোট দুই ভাইয়ের মারামারি থামাতে গিয়ে স্বেচ্ছাসেবক দল নেতার মৃত্যু', 'https://www.prothomalo.com/bangladesh/district/1j4wrwoow4'), ('মার্কিন শুল্কনীতির ধাক্কায় এশিয়া ও ইউরোপের শেয়ারবাজারে বড় ধস', 'https://www.prothomalo.com/world/asia/s4cxg2vg1r'), ('কুমিল্লার সাবেক সংসদ সদস্য আবু জাফরের বিদেশ যাত্রায় নিষেধাজ্ঞা', 'https://www.prothomalo.com/bangladesh/ex67u6b62h'), ('মির্জাপুরে একসঙ্গে চার সন্তান প্রসব, জীবিত ৩ নবজাতক', 'https://www.prothomalo.com/bangladesh/district/uodlbiwedi'), ('ফিরে দেখা ২৫ বছর আগের ক্রিকেট–কাঁপানো সেই কেলেঙ্কারি', 'https://www.prothomalo.com/sports/cricket/0y2mpwkqjl'), ('মতামত এত ঘৃণা কেন নারীর জন্য', 'https://www.prothomalo.com/opinion/column/yh10x8ky0d'), ('কয়েক ঘণ্টায় জানা যাবে, এলিয়েন আছে কি নেই', 'https://www.prothomalo.com/technology/science/1pu0bloqme'), ('সহ–অধিনায়ক থেকে ‘প্রমোশন’ হ্যারি ব্রুকের', 'https://www.prothomalo.com/sports/cricket/cr8dd42xwc')]\n"
     ]
    }
   ],
   "source": [
    "news_list = await fetch_with_playwright() \n",
    "#print(news_list)"
   ]
  },
  {
   "cell_type": "code",
   "execution_count": 111,
   "id": "debe4c55-ec10-4bb6-a95b-6841c775a9c7",
   "metadata": {},
   "outputs": [
    {
     "name": "stdout",
     "output_type": "stream",
     "text": [
      "Already Exits ‘আমি নিতান্তই কোনো সংখ্যা হতে চাই না, আমি গাজার এক বাস্তব গল্প’\n",
      "Already Exits মুঠোফোনের চার্জার, এয়ারপডে লুকিয়ে আনেন কোটির টাকার সোনা, ধরা পড়লেন যেভাবে\n",
      "Already Exits রাষ্ট্রপতি পুলিশ পদক পাচ্ছেন সেই পুলিশ কনস্টেবল\n",
      "Already Exits অনলাইনে ‘আউটসোর্সিং’ কাজ দেওয়ার কথা বলে করতেন প্রতারণা\n",
      "Already Exits চট্টগ্রাম ও কক্সবাজারে বিক্ষোভ মিছিল থেকে দোকান-রেস্তোরাঁয় হামলা-ভাঙচুর\n",
      "Already Exits আশিকুরের মৃত্যু ‘মাথায় গুলি নিয়াই ভাইটা মইরা গেল...চিকিৎসাও পাইল না’\n",
      "Already Exits পাল্টা শুল্ক তিন মাস স্থগিতের অনুরোধ করে ডোনাল্ড ট্রাম্পকে চিঠি দিলেন প্রধান উপদেষ্টা\n",
      "Already Exits ‘আমি নিতান্তই কোনো সংখ্যা হতে চাই না, আমি গাজার এক বাস্তব গল্প’\n",
      "Already Exits মার্কিন শুল্কনীতির ধাক্কায় এশিয়া ও ইউরোপের শেয়ারবাজারে বড় ধস\n",
      "Already Exits ফিলিস্তিনি ভূখণ্ড দখল করে যেভাবে গড়ে উঠল ইসরায়েল রাষ্ট্র\n",
      "Already Exits চট্টগ্রামে জোড়া খুন ‘সন্ত্রাসী’ সাজ্জাদের আরেক সহযোগী গ্রেপ্তার\n",
      "Already Exits শিশুরা কি সোশ্যাল অ্যাংজাইটিতে বেশি ভোগে?\n",
      "Already Exits মার্চে ১৬৩ জন নারী ও কন্যাশিশু ধর্ষণের শিকার হওয়ার খবর\n",
      "Already Exits বিয়ের প্রলোভনের মাধ্যমে যৌনকর্মে দণ্ডের বিধানের বৈধতা নিয়ে রিট\n",
      "Already Exits হবিগঞ্জে সাবেক সংসদ সদস্য ব্যারিস্টার সুমনের জামিন নামঞ্জুর, কারাগারে প্রেরণ\n",
      "Already Exits আশিকুরের মৃত্যু ‘মাথায় গুলি নিয়াই ভাইটা মইরা গেল...চিকিৎসাও পাইল না’\n",
      "Already Exits মাগুরায় শিশু ধর্ষণ ডিএনএ প্রতিবেদনে মূল অভিযুক্তের সংশ্লিষ্টতার প্রমাণ মিলেছে, শিগগিরই অভিযোগপত্র: রেঞ্জ ডিআইজি\n",
      "Already Exits ভৈরবে ছোট দুই ভাইয়ের মারামারি থামাতে গিয়ে স্বেচ্ছাসেবক দল নেতার মৃত্যু\n",
      "Already Exits মার্কিন শুল্কনীতির ধাক্কায় এশিয়া ও ইউরোপের শেয়ারবাজারে বড় ধস\n",
      "Already Exits কুমিল্লার সাবেক সংসদ সদস্য আবু জাফরের বিদেশ যাত্রায় নিষেধাজ্ঞা\n",
      "Already Exits মির্জাপুরে একসঙ্গে চার সন্তান প্রসব, জীবিত ৩ নবজাতক\n",
      "Already Exits ফিরে দেখা ২৫ বছর আগের ক্রিকেট–কাঁপানো সেই কেলেঙ্কারি\n",
      "Already Exits মতামত এত ঘৃণা কেন নারীর জন্য\n",
      "Already Exits কয়েক ঘণ্টায় জানা যাবে, এলিয়েন আছে কি নেই\n",
      "Already Exits সহ–অধিনায়ক থেকে ‘প্রমোশন’ হ্যারি ব্রুকের\n"
     ]
    }
   ],
   "source": [
    "from pymongo import MongoClient\n",
    "from datetime import datetime\n",
    "client = MongoClient(\"mongodb://localhost:27017/\") # need to on env. for local can't do it right now.\n",
    "db = client[\"bd-newspaper-collection\"]\n",
    "\n",
    "collection = db[\"articles\"]\n",
    "\n",
    "for title,url in news_list:\n",
    "    if not collection.find_one({\"url\": url}):\n",
    "        collection.insert_one({\n",
    "            \"title\": title,\n",
    "            \"url\": url,\n",
    "            \"media_name\": \"prothomalo\",\n",
    "            \"scraped_at\": datetime.now()\n",
    "        })\n",
    "        print(f\"Inserted: {title}\")\n",
    "    else:\n",
    "        print(f\"Already Exits {title}\")\n"
   ]
  },
  {
   "cell_type": "code",
   "execution_count": null,
   "id": "fb29b6f5-63ad-414d-9a0d-fc31e9ce149b",
   "metadata": {},
   "outputs": [],
   "source": [
    "from pymongo import MongoClient\n",
    "client = MongoClient(\"mongodb://localhost:27017/\")\n",
    "db = client[\"bd-newspaper-collection\"]\n",
    "\n",
    "collection = db[\"articles\"]\n",
    "collection.insert_one({\n",
    "    \"title\": \"Your News Title\",\n",
    "    \"url\": \"https://...\",\n",
    "    \"scraped_at\": datetime.now()\n",
    "})"
   ]
  }
 ],
 "metadata": {
  "kernelspec": {
   "display_name": "Python 3 (ipykernel)",
   "language": "python",
   "name": "python3"
  },
  "language_info": {
   "codemirror_mode": {
    "name": "ipython",
    "version": 3
   },
   "file_extension": ".py",
   "mimetype": "text/x-python",
   "name": "python",
   "nbconvert_exporter": "python",
   "pygments_lexer": "ipython3",
   "version": "3.12.4"
  }
 },
 "nbformat": 4,
 "nbformat_minor": 5
}
