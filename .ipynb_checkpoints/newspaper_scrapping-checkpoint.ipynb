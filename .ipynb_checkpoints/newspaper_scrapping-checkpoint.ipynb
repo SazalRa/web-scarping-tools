{
 "cells": [
  {
   "cell_type": "code",
   "execution_count": 19,
   "id": "b6a261ce-c153-4ab0-8aa0-1d0fe9b1a36d",
   "metadata": {},
   "outputs": [],
   "source": [
    "from playwright.async_api import async_playwright\n",
    "import asyncio"
   ]
  },
  {
   "cell_type": "code",
   "execution_count": 93,
   "id": "9d181a66-2c6e-406f-9b20-3fa27a16ee7d",
   "metadata": {},
   "outputs": [],
   "source": [
    "async def fetch_with_playwright():\n",
    "    news_list = []\n",
    "    async with async_playwright() as p:\n",
    "        browser = await p.chromium.launch(headless=False)\n",
    "        \n",
    "        page = await browser.new_page()\n",
    "        await page.set_extra_http_headers({\n",
    "            \"User-Agent\": \"Mozilla/5.0 (Windows NT 10.0; Win64; x64) AppleWebKit/537.36 (KHTML, like Gecko) Chrome/134.0.0.0 Safari/537.36\"\n",
    "        })\n",
    "        await page.goto(\"https://www.prothomalo.com/collection/latest\", timeout=60000)\n",
    "        await page.wait_for_selector(\"#container\", timeout=15000)\n",
    "        #Wait for a card to appear inside container\n",
    "        await page.wait_for_selector(\"#container div.news_with_item\", timeout=10000)\n",
    "        elements = await page.locator(\"h3.headline-title\").all()\n",
    "        for el in elements:\n",
    "            link_el  =  el.locator(\"a.title-link\")\n",
    "            href = await link_el.get_attribute(\"href\")\n",
    "            title = (await el.inner_text()).strip()\n",
    "            news_list.append((title, href))\n",
    "            \n",
    "        await browser.close()\n",
    "    return news_list\n",
    "        #for i in range(articles.count())\n",
    "     "
   ]
  },
  {
   "cell_type": "code",
   "execution_count": 95,
   "id": "279e3bbf-2fa9-448b-b43e-a427b415bbde",
   "metadata": {},
   "outputs": [
    {
     "name": "stdout",
     "output_type": "stream",
     "text": [
      "href https://www.prothomalo.com/bangladesh/capital/jngf17v4j7\n",
      "href https://www.prothomalo.com/world/india/j7kpxffh1f\n",
      "href https://www.prothomalo.com/bangladesh/district/wzol6eq3it\n",
      "href https://www.prothomalo.com/bangladesh/district/4ycfq512uv\n",
      "href https://www.prothomalo.com/bangladesh/2pamlq750s\n",
      "href https://www.prothomalo.com/business/industry/ic5yciikxi\n",
      "href https://www.prothomalo.com/bangladesh/capital/76h5kon04a\n",
      "href https://www.prothomalo.com/bangladesh/9iobfzpjfn\n",
      "href https://www.prothomalo.com/sports/cricket/oo0hrwhv6c\n",
      "href https://www.prothomalo.com/bangladesh/uy2qxp5dp6\n",
      "href https://www.prothomalo.com/entertainment/entertainment-interview/d8pvdlk80e\n",
      "href https://www.prothomalo.com/technology/cyberworld/mqrkbta29q\n",
      "href https://www.prothomalo.com/bangladesh/capital/76h5kon04a\n",
      "href https://www.prothomalo.com/bangladesh/district/drveov5qrh\n",
      "href https://www.prothomalo.com/bangladesh/district/tmh0gbqg61\n",
      "href https://www.prothomalo.com/bangladesh/district/iht5xc8zjz\n",
      "href https://www.prothomalo.com/bangladesh/0abqhk1t2r\n",
      "href https://www.prothomalo.com/sports/cricket/oo0hrwhv6c\n",
      "href https://www.prothomalo.com/opinion/column/myw6g5auar\n",
      "href https://www.prothomalo.com/entertainment/bollywood/nybne4nrvl\n",
      "href https://www.prothomalo.com/bangladesh/district/v0206jxb0y\n",
      "href https://www.prothomalo.com/bangladesh/district/vdiqvu8vfr\n",
      "href https://www.prothomalo.com/bangladesh/district/41tbjdig48\n",
      "href https://www.prothomalo.com/bangladesh/district/fdgi6dl2pc\n",
      "href https://www.prothomalo.com/video/entertainment/b0jkpuc1m4\n"
     ]
    },
    {
     "data": {
      "text/plain": [
       "[('গাজায় ইসরায়েলি আগ্রাসনের প্রতিবাদে আফতাবনগরে বিক্ষোভ',\n",
       "  'https://www.prothomalo.com/bangladesh/capital/jngf17v4j7'),\n",
       " ('রাষ্ট্রপতির সম্মতি, ওয়াক্\\u200cফ বিল আইনে পরিণত',\n",
       "  'https://www.prothomalo.com/world/india/j7kpxffh1f'),\n",
       " ('বিদায় অনুষ্ঠানে দাওয়াত না দেওয়ায় ছাত্রদল নেতার হাতে শিক্ষক লাঞ্ছিত',\n",
       "  'https://www.prothomalo.com/bangladesh/district/wzol6eq3it'),\n",
       " ('ডিজিএফআই কর্মকর্তা হত্যার মামলা আরসাপ্রধান আতাউল্লাহকে নেওয়া হলো বান্দরবান আদালতে',\n",
       "  'https://www.prothomalo.com/bangladesh/district/4ycfq512uv'),\n",
       " ('আরও একটি মামলায় সোনালী ব্যাংকের সাবেক এমডি হুমায়ুন কবিরসহ ১১ জনকে তিন বছর কারাদণ্ড',\n",
       "  'https://www.prothomalo.com/bangladesh/2pamlq750s'),\n",
       " ('পাল্টা শুল্ক তিন মাস স্থগিতের অনুরোধ করে ডোনাল্ড ট্রাম্পকে চিঠি দিলেন প্রধান উপদেষ্টা',\n",
       "  'https://www.prothomalo.com/business/industry/ic5yciikxi'),\n",
       " ('ঢাকায় যুক্তরাষ্ট্র দূতাবাসসহ কূটনীতিক এলাকায় নিরাপত্তা জোরদার',\n",
       "  'https://www.prothomalo.com/bangladesh/capital/76h5kon04a'),\n",
       " ('বিক্ষোভের বিষয়ে যুক্তরাষ্ট্রের নাগরিকদের সতর্ক থাকার পরামর্শ ঢাকার মার্কিন দূতাবাসের',\n",
       "  'https://www.prothomalo.com/bangladesh/9iobfzpjfn'),\n",
       " ('নাসির বললেন—এগুলো হচ্ছে ভুয়া কথা, তারকা-মারকা বলে কিছু নেই',\n",
       "  'https://www.prothomalo.com/sports/cricket/oo0hrwhv6c'),\n",
       " ('প্ল্যাকার্ডে ‘শো ইসরায়েল দ্য রেড কার্ড’, ঢাকাসহ দেশের বিভিন্ন জায়গায় বিক্ষোভ',\n",
       "  'https://www.prothomalo.com/bangladesh/uy2qxp5dp6'),\n",
       " ('বাংলা সিনেমা দেখতে গিয়ে ইংরেজি সিনেমা দেখেছি: হিমি',\n",
       "  'https://www.prothomalo.com/entertainment/entertainment-interview/d8pvdlk80e'),\n",
       " ('বাংলাদেশের তরুণদের জন্য ফেসবুকের পডকাস্ট সিরিজ',\n",
       "  'https://www.prothomalo.com/technology/cyberworld/mqrkbta29q'),\n",
       " ('ঢাকায় যুক্তরাষ্ট্র দূতাবাসসহ কূটনীতিক এলাকায় নিরাপত্তা জোরদার',\n",
       "  'https://www.prothomalo.com/bangladesh/capital/76h5kon04a'),\n",
       " ('রাজবাড়ী আদালত চত্বরে আওয়ামী লীগের সাবেক এমপির সঙ্গে জেলা জামায়াত আমিরের করমর্দন',\n",
       "  'https://www.prothomalo.com/bangladesh/district/drveov5qrh'),\n",
       " ('বদরগঞ্জে বিএনপির দুই পক্ষের সংঘর্ষে নিহতের ঘটনায় থানায় মামলা, গ্রেপ্তার ২',\n",
       "  'https://www.prothomalo.com/bangladesh/district/tmh0gbqg61'),\n",
       " ('চট্টগ্রামে প্রতিবাদ ‘ফ্রি ফ্রি ফিলিস্তিন’ বলে স্লোগান, বিক্ষোভ',\n",
       "  'https://www.prothomalo.com/bangladesh/district/iht5xc8zjz'),\n",
       " ('অবৈধ সম্পদ ও সন্দেহজনক লেনদেনের অভিযোগ,সাবেক নৌ প্রতিমন্ত্রী খালিদের বিরুদ্ধে মামলা',\n",
       "  'https://www.prothomalo.com/bangladesh/0abqhk1t2r'),\n",
       " ('নাসির বললেন—এগুলো হচ্ছে ভুয়া কথা, তারকা-মারকা বলে কিছু নেই',\n",
       "  'https://www.prothomalo.com/sports/cricket/oo0hrwhv6c'),\n",
       " ('মতামত প্রতিদিন রাতে আমি ওকে চুমু দিতাম, যেন এটাই শেষবার',\n",
       "  'https://www.prothomalo.com/opinion/column/myw6g5auar'),\n",
       " ('আবার ক্যানসারে আক্রান্ত আয়ুষ্মান খুরানার স্ত্রী তাহিরা',\n",
       "  'https://www.prothomalo.com/entertainment/bollywood/nybne4nrvl'),\n",
       " ('তনু হত্যা: দায়িত্ব নেওয়ার সাত মাস পর ঘটনাস্থলে নতুন তদন্ত কর্মকর্তা',\n",
       "  'https://www.prothomalo.com/bangladesh/district/v0206jxb0y'),\n",
       " ('খুলনায় বাসার সামনে থেকে কলেজছাত্রীকে তুলে নিয়ে নির্যাতন',\n",
       "  'https://www.prothomalo.com/bangladesh/district/vdiqvu8vfr'),\n",
       " ('সাভারে কারখানা খুলে দেওয়ার দাবিতে শ্রমিকদের অবস্থান',\n",
       "  'https://www.prothomalo.com/bangladesh/district/41tbjdig48'),\n",
       " ('রাষ্ট্রীয়ভাবে ইসরায়েলের বিরুদ্ধে নিন্দা জানাতে হবে: হেফাজত মহাসচিব',\n",
       "  'https://www.prothomalo.com/bangladesh/district/fdgi6dl2pc'),\n",
       " ('গাজায় হামলার প্রতিবাদে কী বলছেন শাকিব খান, জয়া আহসানরা',\n",
       "  'https://www.prothomalo.com/video/entertainment/b0jkpuc1m4')]"
      ]
     },
     "execution_count": 95,
     "metadata": {},
     "output_type": "execute_result"
    }
   ],
   "source": [
    "news_list = await fetch_with_playwright() \n",
    "print(news_list)"
   ]
  },
  {
   "cell_type": "code",
   "execution_count": null,
   "id": "fb29b6f5-63ad-414d-9a0d-fc31e9ce149b",
   "metadata": {},
   "outputs": [],
   "source": []
  }
 ],
 "metadata": {
  "kernelspec": {
   "display_name": "Python 3 (ipykernel)",
   "language": "python",
   "name": "python3"
  },
  "language_info": {
   "codemirror_mode": {
    "name": "ipython",
    "version": 3
   },
   "file_extension": ".py",
   "mimetype": "text/x-python",
   "name": "python",
   "nbconvert_exporter": "python",
   "pygments_lexer": "ipython3",
   "version": "3.12.4"
  }
 },
 "nbformat": 4,
 "nbformat_minor": 5
}
