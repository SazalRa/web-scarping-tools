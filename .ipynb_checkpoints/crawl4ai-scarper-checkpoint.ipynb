{
 "cells": [
  {
   "cell_type": "code",
   "execution_count": 37,
   "id": "472a0138-9e6f-4f91-8c5b-a8cc46223d67",
   "metadata": {},
   "outputs": [
    {
     "ename": "SyntaxError",
     "evalue": "invalid syntax (1587267722.py, line 3)",
     "output_type": "error",
     "traceback": [
      "\u001b[1;36m  Cell \u001b[1;32mIn[37], line 3\u001b[1;36m\u001b[0m\n\u001b[1;33m    import\u001b[0m\n\u001b[1;37m           ^\u001b[0m\n\u001b[1;31mSyntaxError\u001b[0m\u001b[1;31m:\u001b[0m invalid syntax\n"
     ]
    }
   ],
   "source": [
    "import asyncio\n",
    "from crawl4ai import AsyncWebCrawler\n",
    "import \n",
    "async def main():\n",
    "    async with AsyncWebCrawler() as crawler:\n",
    "        # AsyncWebCrawler launches a headless browser (Chromium by default)\n",
    "        result = await crawler.arun(\"https://www.prothomalo.com/collection/latest\")\n",
    "        # Crawl4AI automatically converts the HTML into Markdown.\n",
    "        print(result.markdown[:300])\n",
    "\n",
    "await main();\n",
    "        "
   ]
  },
  {
   "cell_type": "code",
   "execution_count": 29,
   "id": "c36119aa-aee1-4c3b-82ed-930d804e8392",
   "metadata": {},
   "outputs": [],
   "source": [
    "# Browser Config\n",
    "import asyncio\n",
    "from crawl4ai import AsyncWebCrawler, BrowserConfig, CrawlerRunConfig, CacheMode\n",
    "\n",
    "async def main_config():\n",
    "    #browser_conf = BrowserConfig(headless=True)\n",
    "    browser_conf = await p.chromium.launch(headless=True)\n",
    "    run_conf = CrawlerRunConfig(\n",
    "        cache_mode=CacheMode.BYPASS\n",
    "    )\n",
    "    async with AsyncWebCrawler(config=browser_conf) as crawler:\n",
    "        result = await crawler.arun(\n",
    "            url=\"https://somoy.tv\",\n",
    "            config=run_conf\n",
    "        )\n",
    "        print(result.markdown)\n",
    "\n",
    "#await main_config()"
   ]
  },
  {
   "cell_type": "code",
   "execution_count": 31,
   "id": "45b9bca6-3d5f-4470-83d6-71f576c230cb",
   "metadata": {},
   "outputs": [
    {
     "ename": "TargetClosedError",
     "evalue": "BrowserType.launch: Target page, context or browser has been closed",
     "output_type": "error",
     "traceback": [
      "\u001b[1;31m---------------------------------------------------------------------------\u001b[0m",
      "\u001b[1;31mTargetClosedError\u001b[0m                         Traceback (most recent call last)",
      "Cell \u001b[1;32mIn[31], line 15\u001b[0m\n\u001b[0;32m      6\u001b[0m md_generator \u001b[38;5;241m=\u001b[39m DefaultMarkdownGenerator(\n\u001b[0;32m      7\u001b[0m     content_filter\u001b[38;5;241m=\u001b[39mPruningContentFilter(threshold\u001b[38;5;241m=\u001b[39m\u001b[38;5;241m0.4\u001b[39m, threshold_type\u001b[38;5;241m=\u001b[39m\u001b[38;5;124m\"\u001b[39m\u001b[38;5;124mfixed\u001b[39m\u001b[38;5;124m\"\u001b[39m)\n\u001b[0;32m      8\u001b[0m )\n\u001b[0;32m     10\u001b[0m config \u001b[38;5;241m=\u001b[39m CrawlerRunConfig(\n\u001b[0;32m     11\u001b[0m     cache_mode\u001b[38;5;241m=\u001b[39mCacheMode\u001b[38;5;241m.\u001b[39mBYPASS,\n\u001b[0;32m     12\u001b[0m     markdown_generator\u001b[38;5;241m=\u001b[39mmd_generator\n\u001b[0;32m     13\u001b[0m )\n\u001b[1;32m---> 15\u001b[0m \u001b[38;5;28;01masync\u001b[39;00m \u001b[38;5;28;01mwith\u001b[39;00m AsyncWebCrawler() \u001b[38;5;28;01mas\u001b[39;00m crawler:\n\u001b[0;32m     16\u001b[0m     result \u001b[38;5;241m=\u001b[39m \u001b[38;5;28;01mawait\u001b[39;00m crawler\u001b[38;5;241m.\u001b[39marun(\u001b[38;5;124m\"\u001b[39m\u001b[38;5;124mhttps://news.ycombinator.com\u001b[39m\u001b[38;5;124m\"\u001b[39m, config\u001b[38;5;241m=\u001b[39mconfig)\n\u001b[0;32m     17\u001b[0m     \u001b[38;5;28mprint\u001b[39m(\u001b[38;5;124m\"\u001b[39m\u001b[38;5;124mRaw Markdown length:\u001b[39m\u001b[38;5;124m\"\u001b[39m, \u001b[38;5;28mlen\u001b[39m(result\u001b[38;5;241m.\u001b[39mmarkdown\u001b[38;5;241m.\u001b[39mraw_markdown))\n",
      "File \u001b[1;32m~\\anaconda3\\Lib\\site-packages\\crawl4ai\\async_webcrawler.py:249\u001b[0m, in \u001b[0;36mAsyncWebCrawler.__aenter__\u001b[1;34m(self)\u001b[0m\n\u001b[0;32m    248\u001b[0m \u001b[38;5;28;01masync\u001b[39;00m \u001b[38;5;28;01mdef\u001b[39;00m \u001b[38;5;21m__aenter__\u001b[39m(\u001b[38;5;28mself\u001b[39m):\n\u001b[1;32m--> 249\u001b[0m     \u001b[38;5;28;01mreturn\u001b[39;00m \u001b[38;5;28;01mawait\u001b[39;00m \u001b[38;5;28mself\u001b[39m\u001b[38;5;241m.\u001b[39mstart()\n",
      "File \u001b[1;32m~\\anaconda3\\Lib\\site-packages\\crawl4ai\\async_webcrawler.py:233\u001b[0m, in \u001b[0;36mAsyncWebCrawler.start\u001b[1;34m(self)\u001b[0m\n\u001b[0;32m    230\u001b[0m         \u001b[38;5;28mself\u001b[39m\u001b[38;5;241m.\u001b[39mbrowser_config\u001b[38;5;241m.\u001b[39mcdp_url \u001b[38;5;241m=\u001b[39m browser_info\u001b[38;5;241m.\u001b[39mget(\u001b[38;5;124m'\u001b[39m\u001b[38;5;124mcdp_url\u001b[39m\u001b[38;5;124m'\u001b[39m)\n\u001b[0;32m    231\u001b[0m         \u001b[38;5;28mself\u001b[39m\u001b[38;5;241m.\u001b[39mbrowser_config\u001b[38;5;241m.\u001b[39muse_managed_browser \u001b[38;5;241m=\u001b[39m \u001b[38;5;28;01mTrue\u001b[39;00m\n\u001b[1;32m--> 233\u001b[0m \u001b[38;5;28;01mawait\u001b[39;00m \u001b[38;5;28mself\u001b[39m\u001b[38;5;241m.\u001b[39mcrawler_strategy\u001b[38;5;241m.\u001b[39m\u001b[38;5;21m__aenter__\u001b[39m()\n\u001b[0;32m    234\u001b[0m \u001b[38;5;28;01mawait\u001b[39;00m \u001b[38;5;28mself\u001b[39m\u001b[38;5;241m.\u001b[39mawarmup()\n\u001b[0;32m    235\u001b[0m \u001b[38;5;28;01mreturn\u001b[39;00m \u001b[38;5;28mself\u001b[39m\n",
      "File \u001b[1;32m~\\anaconda3\\Lib\\site-packages\\crawl4ai\\async_crawler_strategy.py:111\u001b[0m, in \u001b[0;36mAsyncPlaywrightCrawlerStrategy.__aenter__\u001b[1;34m(self)\u001b[0m\n\u001b[0;32m    110\u001b[0m \u001b[38;5;28;01masync\u001b[39;00m \u001b[38;5;28;01mdef\u001b[39;00m \u001b[38;5;21m__aenter__\u001b[39m(\u001b[38;5;28mself\u001b[39m):\n\u001b[1;32m--> 111\u001b[0m     \u001b[38;5;28;01mawait\u001b[39;00m \u001b[38;5;28mself\u001b[39m\u001b[38;5;241m.\u001b[39mstart()\n\u001b[0;32m    112\u001b[0m     \u001b[38;5;28;01mreturn\u001b[39;00m \u001b[38;5;28mself\u001b[39m\n",
      "File \u001b[1;32m~\\anaconda3\\Lib\\site-packages\\crawl4ai\\async_crawler_strategy.py:121\u001b[0m, in \u001b[0;36mAsyncPlaywrightCrawlerStrategy.start\u001b[1;34m(self)\u001b[0m\n\u001b[0;32m    117\u001b[0m \u001b[38;5;28;01masync\u001b[39;00m \u001b[38;5;28;01mdef\u001b[39;00m \u001b[38;5;21mstart\u001b[39m(\u001b[38;5;28mself\u001b[39m):\n\u001b[0;32m    118\u001b[0m \u001b[38;5;250m    \u001b[39m\u001b[38;5;124;03m\"\"\"\u001b[39;00m\n\u001b[0;32m    119\u001b[0m \u001b[38;5;124;03m    Start the browser and initialize the browser manager.\u001b[39;00m\n\u001b[0;32m    120\u001b[0m \u001b[38;5;124;03m    \"\"\"\u001b[39;00m\n\u001b[1;32m--> 121\u001b[0m     \u001b[38;5;28;01mawait\u001b[39;00m \u001b[38;5;28mself\u001b[39m\u001b[38;5;241m.\u001b[39mbrowser_manager\u001b[38;5;241m.\u001b[39mstart()\n\u001b[0;32m    122\u001b[0m     \u001b[38;5;28;01mawait\u001b[39;00m \u001b[38;5;28mself\u001b[39m\u001b[38;5;241m.\u001b[39mexecute_hook(\n\u001b[0;32m    123\u001b[0m         \u001b[38;5;124m\"\u001b[39m\u001b[38;5;124mon_browser_created\u001b[39m\u001b[38;5;124m\"\u001b[39m,\n\u001b[0;32m    124\u001b[0m         \u001b[38;5;28mself\u001b[39m\u001b[38;5;241m.\u001b[39mbrowser_manager\u001b[38;5;241m.\u001b[39mbrowser,\n\u001b[0;32m    125\u001b[0m         context\u001b[38;5;241m=\u001b[39m\u001b[38;5;28mself\u001b[39m\u001b[38;5;241m.\u001b[39mbrowser_manager\u001b[38;5;241m.\u001b[39mdefault_context,\n\u001b[0;32m    126\u001b[0m     )\n",
      "File \u001b[1;32m~\\anaconda3\\Lib\\site-packages\\crawl4ai\\browser_manager.py:520\u001b[0m, in \u001b[0;36mBrowserManager.start\u001b[1;34m(self)\u001b[0m\n\u001b[0;32m    518\u001b[0m     \u001b[38;5;28mself\u001b[39m\u001b[38;5;241m.\u001b[39mbrowser \u001b[38;5;241m=\u001b[39m \u001b[38;5;28;01mawait\u001b[39;00m \u001b[38;5;28mself\u001b[39m\u001b[38;5;241m.\u001b[39mplaywright\u001b[38;5;241m.\u001b[39mwebkit\u001b[38;5;241m.\u001b[39mlaunch(\u001b[38;5;241m*\u001b[39m\u001b[38;5;241m*\u001b[39mbrowser_args)\n\u001b[0;32m    519\u001b[0m \u001b[38;5;28;01melse\u001b[39;00m:\n\u001b[1;32m--> 520\u001b[0m     \u001b[38;5;28mself\u001b[39m\u001b[38;5;241m.\u001b[39mbrowser \u001b[38;5;241m=\u001b[39m \u001b[38;5;28;01mawait\u001b[39;00m \u001b[38;5;28mself\u001b[39m\u001b[38;5;241m.\u001b[39mplaywright\u001b[38;5;241m.\u001b[39mchromium\u001b[38;5;241m.\u001b[39mlaunch(\u001b[38;5;241m*\u001b[39m\u001b[38;5;241m*\u001b[39mbrowser_args)\n\u001b[0;32m    522\u001b[0m \u001b[38;5;28mself\u001b[39m\u001b[38;5;241m.\u001b[39mdefault_context \u001b[38;5;241m=\u001b[39m \u001b[38;5;28mself\u001b[39m\u001b[38;5;241m.\u001b[39mbrowser\n",
      "File \u001b[1;32m~\\anaconda3\\Lib\\site-packages\\playwright\\async_api\\_generated.py:14418\u001b[0m, in \u001b[0;36mBrowserType.launch\u001b[1;34m(self, executable_path, channel, args, ignore_default_args, handle_sigint, handle_sigterm, handle_sighup, timeout, env, headless, devtools, proxy, downloads_path, slow_mo, traces_dir, chromium_sandbox, firefox_user_prefs)\u001b[0m\n\u001b[0;32m  14300\u001b[0m \u001b[38;5;28;01masync\u001b[39;00m \u001b[38;5;28;01mdef\u001b[39;00m \u001b[38;5;21mlaunch\u001b[39m(\n\u001b[0;32m  14301\u001b[0m     \u001b[38;5;28mself\u001b[39m,\n\u001b[0;32m  14302\u001b[0m     \u001b[38;5;241m*\u001b[39m,\n\u001b[1;32m   (...)\u001b[0m\n\u001b[0;32m  14323\u001b[0m     ] \u001b[38;5;241m=\u001b[39m \u001b[38;5;28;01mNone\u001b[39;00m,\n\u001b[0;32m  14324\u001b[0m ) \u001b[38;5;241m-\u001b[39m\u001b[38;5;241m>\u001b[39m \u001b[38;5;124m\"\u001b[39m\u001b[38;5;124mBrowser\u001b[39m\u001b[38;5;124m\"\u001b[39m:\n\u001b[0;32m  14325\u001b[0m \u001b[38;5;250m    \u001b[39m\u001b[38;5;124;03m\"\"\"BrowserType.launch\u001b[39;00m\n\u001b[0;32m  14326\u001b[0m \n\u001b[0;32m  14327\u001b[0m \u001b[38;5;124;03m    Returns the browser instance.\u001b[39;00m\n\u001b[1;32m   (...)\u001b[0m\n\u001b[0;32m  14414\u001b[0m \u001b[38;5;124;03m    Browser\u001b[39;00m\n\u001b[0;32m  14415\u001b[0m \u001b[38;5;124;03m    \"\"\"\u001b[39;00m\n\u001b[0;32m  14417\u001b[0m     \u001b[38;5;28;01mreturn\u001b[39;00m mapping\u001b[38;5;241m.\u001b[39mfrom_impl(\n\u001b[1;32m> 14418\u001b[0m         \u001b[38;5;28;01mawait\u001b[39;00m \u001b[38;5;28mself\u001b[39m\u001b[38;5;241m.\u001b[39m_impl_obj\u001b[38;5;241m.\u001b[39mlaunch(\n\u001b[0;32m  14419\u001b[0m             executablePath\u001b[38;5;241m=\u001b[39mexecutable_path,\n\u001b[0;32m  14420\u001b[0m             channel\u001b[38;5;241m=\u001b[39mchannel,\n\u001b[0;32m  14421\u001b[0m             args\u001b[38;5;241m=\u001b[39mmapping\u001b[38;5;241m.\u001b[39mto_impl(args),\n\u001b[0;32m  14422\u001b[0m             ignoreDefaultArgs\u001b[38;5;241m=\u001b[39mmapping\u001b[38;5;241m.\u001b[39mto_impl(ignore_default_args),\n\u001b[0;32m  14423\u001b[0m             handleSIGINT\u001b[38;5;241m=\u001b[39mhandle_sigint,\n\u001b[0;32m  14424\u001b[0m             handleSIGTERM\u001b[38;5;241m=\u001b[39mhandle_sigterm,\n\u001b[0;32m  14425\u001b[0m             handleSIGHUP\u001b[38;5;241m=\u001b[39mhandle_sighup,\n\u001b[0;32m  14426\u001b[0m             timeout\u001b[38;5;241m=\u001b[39mtimeout,\n\u001b[0;32m  14427\u001b[0m             env\u001b[38;5;241m=\u001b[39mmapping\u001b[38;5;241m.\u001b[39mto_impl(env),\n\u001b[0;32m  14428\u001b[0m             headless\u001b[38;5;241m=\u001b[39mheadless,\n\u001b[0;32m  14429\u001b[0m             devtools\u001b[38;5;241m=\u001b[39mdevtools,\n\u001b[0;32m  14430\u001b[0m             proxy\u001b[38;5;241m=\u001b[39mproxy,\n\u001b[0;32m  14431\u001b[0m             downloadsPath\u001b[38;5;241m=\u001b[39mdownloads_path,\n\u001b[0;32m  14432\u001b[0m             slowMo\u001b[38;5;241m=\u001b[39mslow_mo,\n\u001b[0;32m  14433\u001b[0m             tracesDir\u001b[38;5;241m=\u001b[39mtraces_dir,\n\u001b[0;32m  14434\u001b[0m             chromiumSandbox\u001b[38;5;241m=\u001b[39mchromium_sandbox,\n\u001b[0;32m  14435\u001b[0m             firefoxUserPrefs\u001b[38;5;241m=\u001b[39mmapping\u001b[38;5;241m.\u001b[39mto_impl(firefox_user_prefs),\n\u001b[0;32m  14436\u001b[0m         )\n\u001b[0;32m  14437\u001b[0m     )\n",
      "File \u001b[1;32m~\\anaconda3\\Lib\\site-packages\\playwright\\_impl\\_browser_type.py:95\u001b[0m, in \u001b[0;36mBrowserType.launch\u001b[1;34m(self, executablePath, channel, args, ignoreDefaultArgs, handleSIGINT, handleSIGTERM, handleSIGHUP, timeout, env, headless, devtools, proxy, downloadsPath, slowMo, tracesDir, chromiumSandbox, firefoxUserPrefs)\u001b[0m\n\u001b[0;32m     92\u001b[0m params \u001b[38;5;241m=\u001b[39m locals_to_params(\u001b[38;5;28mlocals\u001b[39m())\n\u001b[0;32m     93\u001b[0m normalize_launch_params(params)\n\u001b[0;32m     94\u001b[0m browser \u001b[38;5;241m=\u001b[39m cast(\n\u001b[1;32m---> 95\u001b[0m     Browser, from_channel(\u001b[38;5;28;01mawait\u001b[39;00m \u001b[38;5;28mself\u001b[39m\u001b[38;5;241m.\u001b[39m_channel\u001b[38;5;241m.\u001b[39msend(\u001b[38;5;124m\"\u001b[39m\u001b[38;5;124mlaunch\u001b[39m\u001b[38;5;124m\"\u001b[39m, params))\n\u001b[0;32m     96\u001b[0m )\n\u001b[0;32m     97\u001b[0m \u001b[38;5;28mself\u001b[39m\u001b[38;5;241m.\u001b[39m_did_launch_browser(browser)\n\u001b[0;32m     98\u001b[0m \u001b[38;5;28;01mreturn\u001b[39;00m browser\n",
      "File \u001b[1;32m~\\anaconda3\\Lib\\site-packages\\playwright\\_impl\\_connection.py:61\u001b[0m, in \u001b[0;36mChannel.send\u001b[1;34m(self, method, params)\u001b[0m\n\u001b[0;32m     60\u001b[0m \u001b[38;5;28;01masync\u001b[39;00m \u001b[38;5;28;01mdef\u001b[39;00m \u001b[38;5;21msend\u001b[39m(\u001b[38;5;28mself\u001b[39m, method: \u001b[38;5;28mstr\u001b[39m, params: Dict \u001b[38;5;241m=\u001b[39m \u001b[38;5;28;01mNone\u001b[39;00m) \u001b[38;5;241m-\u001b[39m\u001b[38;5;241m>\u001b[39m Any:\n\u001b[1;32m---> 61\u001b[0m     \u001b[38;5;28;01mreturn\u001b[39;00m \u001b[38;5;28;01mawait\u001b[39;00m \u001b[38;5;28mself\u001b[39m\u001b[38;5;241m.\u001b[39m_connection\u001b[38;5;241m.\u001b[39mwrap_api_call(\n\u001b[0;32m     62\u001b[0m         \u001b[38;5;28;01mlambda\u001b[39;00m: \u001b[38;5;28mself\u001b[39m\u001b[38;5;241m.\u001b[39m_inner_send(method, params, \u001b[38;5;28;01mFalse\u001b[39;00m),\n\u001b[0;32m     63\u001b[0m         \u001b[38;5;28mself\u001b[39m\u001b[38;5;241m.\u001b[39m_is_internal_type,\n\u001b[0;32m     64\u001b[0m     )\n",
      "File \u001b[1;32m~\\anaconda3\\Lib\\site-packages\\playwright\\_impl\\_connection.py:528\u001b[0m, in \u001b[0;36mConnection.wrap_api_call\u001b[1;34m(self, cb, is_internal)\u001b[0m\n\u001b[0;32m    526\u001b[0m     \u001b[38;5;28;01mreturn\u001b[39;00m \u001b[38;5;28;01mawait\u001b[39;00m cb()\n\u001b[0;32m    527\u001b[0m \u001b[38;5;28;01mexcept\u001b[39;00m \u001b[38;5;167;01mException\u001b[39;00m \u001b[38;5;28;01mas\u001b[39;00m error:\n\u001b[1;32m--> 528\u001b[0m     \u001b[38;5;28;01mraise\u001b[39;00m rewrite_error(error, \u001b[38;5;124mf\u001b[39m\u001b[38;5;124m\"\u001b[39m\u001b[38;5;132;01m{\u001b[39;00mparsed_st[\u001b[38;5;124m'\u001b[39m\u001b[38;5;124mapiName\u001b[39m\u001b[38;5;124m'\u001b[39m]\u001b[38;5;132;01m}\u001b[39;00m\u001b[38;5;124m: \u001b[39m\u001b[38;5;132;01m{\u001b[39;00merror\u001b[38;5;132;01m}\u001b[39;00m\u001b[38;5;124m\"\u001b[39m) \u001b[38;5;28;01mfrom\u001b[39;00m \u001b[38;5;28;01mNone\u001b[39;00m\n\u001b[0;32m    529\u001b[0m \u001b[38;5;28;01mfinally\u001b[39;00m:\n\u001b[0;32m    530\u001b[0m     \u001b[38;5;28mself\u001b[39m\u001b[38;5;241m.\u001b[39m_api_zone\u001b[38;5;241m.\u001b[39mset(\u001b[38;5;28;01mNone\u001b[39;00m)\n",
      "\u001b[1;31mTargetClosedError\u001b[0m: BrowserType.launch: Target page, context or browser has been closed"
     ]
    }
   ],
   "source": [
    "# Generating Markdown Output\n",
    "from crawl4ai import AsyncWebCrawler, CrawlerRunConfig\n",
    "from crawl4ai.content_filter_strategy import PruningContentFilter\n",
    "from crawl4ai.markdown_generation_strategy import DefaultMarkdownGenerator\n",
    "\n",
    "md_generator = DefaultMarkdownGenerator(\n",
    "    content_filter=PruningContentFilter(threshold=0.4, threshold_type=\"fixed\")\n",
    ")\n",
    "\n",
    "config = CrawlerRunConfig(\n",
    "    cache_mode=CacheMode.BYPASS,\n",
    "    markdown_generator=md_generator\n",
    ")\n",
    "\n",
    "async with AsyncWebCrawler() as crawler:\n",
    "    result = await crawler.arun(\"https://news.ycombinator.com\", config=config)\n",
    "    print(\"Raw Markdown length:\", len(result.markdown.raw_markdown))\n",
    "    print(\"Fit Markdown length:\", len(result.markdown.fit_markdown))"
   ]
  },
  {
   "cell_type": "code",
   "execution_count": null,
   "id": "e419c3e9-1aa6-40ae-9594-9d7758a62091",
   "metadata": {},
   "outputs": [],
   "source": []
  }
 ],
 "metadata": {
  "kernelspec": {
   "display_name": "Python 3 (ipykernel)",
   "language": "python",
   "name": "python3"
  },
  "language_info": {
   "codemirror_mode": {
    "name": "ipython",
    "version": 3
   },
   "file_extension": ".py",
   "mimetype": "text/x-python",
   "name": "python",
   "nbconvert_exporter": "python",
   "pygments_lexer": "ipython3",
   "version": "3.12.4"
  }
 },
 "nbformat": 4,
 "nbformat_minor": 5
}
