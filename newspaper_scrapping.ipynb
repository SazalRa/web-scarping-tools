{
 "cells": [
  {
   "cell_type": "code",
   "execution_count": 47,
   "id": "b6a261ce-c153-4ab0-8aa0-1d0fe9b1a36d",
   "metadata": {},
   "outputs": [],
   "source": [
    "from playwright.async_api import async_playwright\n",
    "import asyncio\n",
    "\n",
    "from datetime import datetime, timedelta"
   ]
  },
  {
   "cell_type": "markdown",
   "id": "7017de13-e30c-47a0-89fc-f8e515b56029",
   "metadata": {},
   "source": [
    "### Helper function for get real publish time. \n",
    "### Convert Bangla number into English Number"
   ]
  },
  {
   "cell_type": "code",
   "execution_count": 50,
   "id": "6110a760-b938-403c-8cb6-416e2043cba3",
   "metadata": {},
   "outputs": [],
   "source": [
    "# Mapping Bengali digits to English\n",
    "bn_digit_map = {\n",
    "    '০': '0', '১': '1', '২': '2', '৩': '3', '৪': '4',\n",
    "    '৫': '5', '৬': '6', '৭': '7', '৮': '8', '৯': '9'\n",
    "}\n",
    "\n",
    "def bn_to_en_digits(bn_str):\n",
    "    return ''.join([bn_digit_map.get(ch, ch) for ch in bn_str])\n",
    "    \n",
    "###########################################################################\n",
    "# Function for convert bangla time english and return real published time    \n",
    "###########################################################################\n",
    "\n",
    "def parse_bengali_relative_time(bn_time_str):\n",
    "    if \"No time found\" in bn_time_str:\n",
    "        return \"No time found\"\n",
    "        \n",
    "    now = datetime.now()\n",
    "    \n",
    "    bn_time_str = bn_time_str.strip()\n",
    "    \n",
    "    # Extract number\n",
    "    num_str = ''.join([bn_digit_map.get(ch, ch) for ch in bn_time_str if ch in bn_digit_map or ch.isdigit()])\n",
    "    num = int(num_str) if num_str else 0\n",
    "\n",
    "    if 'সেকেন্ড' in bn_time_str:\n",
    "        delta = timedelta(seconds=num)\n",
    "    elif 'মিনিট' in bn_time_str:\n",
    "        delta = timedelta(minutes=num)\n",
    "    elif 'ঘণ্টা' in bn_time_str:\n",
    "        delta = timedelta(hours=num)\n",
    "    elif 'দিন' in bn_time_str:\n",
    "        delta = timedelta(days=num)\n",
    "    else:\n",
    "        delta = timedelta()  # fallback\n",
    "\n",
    "    return now - delta"
   ]
  },
  {
   "cell_type": "code",
   "execution_count": 52,
   "id": "9d181a66-2c6e-406f-9b20-3fa27a16ee7d",
   "metadata": {},
   "outputs": [],
   "source": [
    "async def fetch_with_playwright():\n",
    "    news_list = []\n",
    "    async with async_playwright() as p:\n",
    "        browser = await p.chromium.launch(headless=False)\n",
    "        \n",
    "        page = await browser.new_page()\n",
    "        await page.set_extra_http_headers({\n",
    "            \"User-Agent\": \"Mozilla/5.0 (Windows NT 10.0; Win64; x64) AppleWebKit/537.36 (KHTML, like Gecko) Chrome/134.0.0.0 Safari/537.36\"\n",
    "        })\n",
    "        await page.goto(\"https://www.prothomalo.com/collection/latest\", timeout=60000)\n",
    "        await page.wait_for_selector(\"#container\", timeout=15000)\n",
    "        #Wait for a card to appear inside container\n",
    "        await page.wait_for_selector(\"#container div.news_with_item\", timeout=10000)\n",
    "        elements = await page.locator(\"h3.headline-title\").all()\n",
    "        for el in elements:\n",
    "            link_el  =  el.locator(\"a.title-link\")\n",
    "            href = await link_el.get_attribute(\"href\")\n",
    "            title = (await el.inner_text()).strip()\n",
    "            # Get the nearest ancestor or surrounding time tag with class 'published-time'\n",
    "            time_locator = el.locator(\"xpath=following::time[contains(@class, 'published-time')]\")\n",
    "        \n",
    "            # Check if it exists\n",
    "            if await time_locator.count() > 0:\n",
    "                published_time = await time_locator.first.inner_text()\n",
    "            else:\n",
    "                published_time = \"No time found\"\n",
    "            print(\"published_time\", published_time)\n",
    "            news_list.append((title, href, published_time))\n",
    "            \n",
    "        await browser.close()\n",
    "    return news_list\n",
    "        #for i in range(articles.count())\n",
    "     "
   ]
  },
  {
   "cell_type": "code",
   "execution_count": null,
   "id": "81dd70af-0ce6-465a-897a-aeec1f81c42b",
   "metadata": {},
   "outputs": [],
   "source": []
  },
  {
   "cell_type": "code",
   "execution_count": 55,
   "id": "279e3bbf-2fa9-448b-b43e-a427b415bbde",
   "metadata": {
    "scrolled": true
   },
   "outputs": [
    {
     "name": "stdout",
     "output_type": "stream",
     "text": [
      "published_time ৫ মিনিট আগে\n",
      "published_time ৫ মিনিট আগে\n",
      "published_time ৬ মিনিট আগে\n",
      "published_time ৬ মিনিট আগে\n",
      "published_time ৯ মিনিট আগে\n",
      "published_time ১৩ মিনিট আগে\n",
      "published_time ১৩ মিনিট আগে\n",
      "published_time ১৩ মিনিট আগে\n",
      "published_time ১৩ মিনিট আগে\n",
      "published_time ১৩ মিনিট আগে\n",
      "published_time ১৩ মিনিট আগে\n",
      "published_time ১৭ মিনিট আগে\n",
      "published_time ১৮ মিনিট আগে\n",
      "published_time ১৮ মিনিট আগে\n",
      "published_time ২১ মিনিট আগে\n",
      "published_time ২১ মিনিট আগে\n",
      "published_time ২২ মিনিট আগে\n",
      "published_time ২৩ মিনিট আগে\n",
      "published_time ২৫ মিনিট আগে\n",
      "published_time ২৮ মিনিট আগে\n",
      "published_time ২৯ মিনিট আগে\n",
      "published_time ৩০ মিনিট আগে\n",
      "published_time ৩৬ মিনিট আগে\n",
      "published_time ৩৭ মিনিট আগে\n",
      "published_time ৫৬ মিনিট আগে\n"
     ]
    }
   ],
   "source": [
    "news_list = await fetch_with_playwright() \n",
    "#print(news_list)"
   ]
  },
  {
   "cell_type": "code",
   "execution_count": 63,
   "id": "debe4c55-ec10-4bb6-a95b-6841c775a9c7",
   "metadata": {},
   "outputs": [
    {
     "name": "stdout",
     "output_type": "stream",
     "text": [
      "published_time 2025-04-09 18:10:01.271866\n",
      "Already Exits সংস্কার নিয়ে মতামত দিল আরও দুই দল\n",
      "published_time 2025-04-09 18:10:01.292378\n",
      "Already Exits ব্যবসায়ী নেতার সাক্ষাৎকার ব্যবসাপ্রতিষ্ঠানে হামলা-লুটপাট সিলেটের চিরায়ত সম্প্রীতিবিরোধী কর্মকাণ্ড\n",
      "published_time 2025-04-09 18:09:01.293377\n",
      "Already Exits পাঠকের ছবি\n",
      "published_time 2025-04-09 18:09:01.294378\n",
      "Already Exits মাত্র ৮ ঘণ্টার জন্য ঢাকায়—কী হয়েছিল শাবনূরের\n",
      "published_time 2025-04-09 18:06:01.295378\n",
      "Already Exits ম্যারাডোনাকে বাসায় নিয়ে যাওয়াটাই ভুল হয়েছিল, বললেন চিকিৎসক\n",
      "published_time 2025-04-09 18:02:01.297376\n",
      "Already Exits বাংলাদেশের ট্রান্সশিপমেন্ট সুবিধা বাতিল করল ভারত\n",
      "published_time 2025-04-09 18:02:01.298376\n",
      "Already Exits সরাসরি যুক্তরাষ্ট্রের ১০৪ শতাংশের জবাবে চীনের ৮৪ শতাংশ শুল্ক, তেলের দাম ৬০ ডলার\n",
      "published_time 2025-04-09 18:02:01.299378\n",
      "Already Exits কাঠগড়ায় মেজাজ হারিয়ে চিৎকার-চেঁচামেচি হাজি সেলিমের, অন্যরা হতবাক\n",
      "published_time 2025-04-09 18:02:01.300378\n",
      "Already Exits এনসিপির সঙ্গে হেফাজতের বৈঠক, আওয়ামী লীগের বিরুদ্ধে ঐকমত্য\n",
      "published_time 2025-04-09 18:02:01.302378\n",
      "Already Exits কুষ্টিয়ায় দিনদুপুরে চালকল মালিক সমিতির কেন্দ্রীয় সভাপতি রশিদের বাড়িতে গুলি\n",
      "published_time 2025-04-09 18:02:01.303376\n",
      "Already Exits সৎমাকে কুপিয়ে হত্যার অভিযোগ, মা–বাবাসহ পালিয়েছেন ছেলে\n",
      "published_time 2025-04-09 17:58:01.304379\n",
      "Already Exits মান্নাত ছেড়ে কেন ভাড়া বাসায় শাহরুখ\n",
      "published_time 2025-04-09 17:57:01.305377\n",
      "Already Exits জয়পুরহাটে ধর্ষণে ব্যর্থ হয়ে শিশুকে ছাদ থেকে নিচে ফেলে দেওয়ার অভিযোগ, গ্রেপ্তার ১\n",
      "published_time 2025-04-09 17:57:01.306377\n",
      "Already Exits চীনের প্রভাব মোকাবিলায় পানামা খাল ফেরত নেবে যুক্তরাষ্ট্র: মার্কিন প্রতিরক্ষামন্ত্রী\n",
      "published_time 2025-04-09 17:54:01.307377\n",
      "Already Exits আর্কটিক অঞ্চলের বরফ গলে নতুন মহামারির আশঙ্কা\n",
      "published_time 2025-04-09 17:54:01.308378\n",
      "Already Exits কুষ্টিয়ায় দিনদুপুরে চালকল মালিক সমিতির কেন্দ্রীয় সভাপতি রশিদের বাড়িতে গুলি\n",
      "published_time 2025-04-09 17:53:01.309377\n",
      "Already Exits আগামীকাল এসএসসি পরীক্ষা শুরু গতবারের চেয়ে এবার প্রায় এক লাখ পরীক্ষার্থী কমেছে\n",
      "published_time 2025-04-09 17:52:01.311379\n",
      "Already Exits বাঙালি ছাড়াও ২৭ জাতিগোষ্ঠীর অংশগ্রহণে হবে এবারের নববর্ষের শোভাযাত্রা: সংস্কৃতি উপদেষ্টা\n",
      "published_time 2025-04-09 17:50:01.312379\n",
      "Already Exits বন থাকবে বনের মতো, বন কেন পার্ক হবে: সৈয়দা রিজওয়ানা হাসান\n",
      "published_time 2025-04-09 17:47:01.313379\n",
      "Already Exits শেখ হাসিনা ও তাঁর পরিবারের স্বার্থসংশ্লিষ্ট আরও একটি ব্যাংক হিসাব অবরুদ্ধের আদেশ\n",
      "published_time 2025-04-09 17:46:01.315379\n",
      "Already Exits কক্সবাজারে মা কাছিমের মৃত্যু থামছে না, উপকূলজুড়ে নিষিদ্ধ জাল\n",
      "published_time 2025-04-09 17:45:01.316379\n",
      "Already Exits বর্ষবরণ উৎসবে যেসব খেলায় মেতে ওঠেন পাহাড়ের মানুষ\n",
      "published_time 2025-04-09 17:39:01.318380\n",
      "Already Exits দুদকে হাসনাত-সারজিস, বললেন অতিগোপনীয় অভিযোগ নিয়ে এসেছেন\n",
      "published_time 2025-04-09 17:38:01.319381\n",
      "Already Exits সিলেটে যাওয়ার পথে রাতে বাসে হেনস্তার শিকার শাহজালাল বিশ্ববিদ্যালয়ের ছাত্রী\n",
      "published_time 2025-04-09 17:19:01.320381\n",
      "Already Exits জামালপুরে সাংবাদিক রব্বানি হত্যা মামলার আসামিদের বিচারের দাবিতে বিক্ষোভ\n"
     ]
    }
   ],
   "source": [
    "from pymongo import MongoClient\n",
    "\n",
    "client = MongoClient(\"mongodb://localhost:27017/\") # need to on env. for local can't do it right now.\n",
    "db = client[\"bd-newspaper-collection\"]\n",
    "\n",
    "collection = db[\"articles\"]\n",
    "\n",
    "for title,url, published_time in news_list:\n",
    "    published_time = parse_bengali_relative_time(published_time)\n",
    "    print(\"published_time\",published_time)\n",
    "    if not collection.find_one({\"url\": url}):\n",
    "        \n",
    "        collection.insert_one({\n",
    "            \"title\": title,\n",
    "            \"url\": url,\n",
    "            \"published_time\": published_time,\n",
    "            \"media_name\": \"prothomalo\",\n",
    "            \"scraped_at\": datetime.now()\n",
    "        })\n",
    "        print(f\"Inserted: {title}\")\n",
    "    else:\n",
    "        print(f\"Already Exits {title}\")\n"
   ]
  },
  {
   "cell_type": "code",
   "execution_count": 59,
   "id": "fb29b6f5-63ad-414d-9a0d-fc31e9ce149b",
   "metadata": {},
   "outputs": [
    {
     "data": {
      "text/plain": [
       "25"
      ]
     },
     "execution_count": 59,
     "metadata": {},
     "output_type": "execute_result"
    }
   ],
   "source": [
    "len(news_list)"
   ]
  },
  {
   "cell_type": "code",
   "execution_count": null,
   "id": "2ddd8709-2cfd-4598-bc3a-a75a8506a432",
   "metadata": {},
   "outputs": [],
   "source": []
  }
 ],
 "metadata": {
  "kernelspec": {
   "display_name": "Python 3 (ipykernel)",
   "language": "python",
   "name": "python3"
  },
  "language_info": {
   "codemirror_mode": {
    "name": "ipython",
    "version": 3
   },
   "file_extension": ".py",
   "mimetype": "text/x-python",
   "name": "python",
   "nbconvert_exporter": "python",
   "pygments_lexer": "ipython3",
   "version": "3.12.4"
  }
 },
 "nbformat": 4,
 "nbformat_minor": 5
}
