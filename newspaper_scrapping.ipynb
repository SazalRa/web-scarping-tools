{
 "cells": [
  {
   "cell_type": "code",
   "execution_count": 2,
   "id": "b6a261ce-c153-4ab0-8aa0-1d0fe9b1a36d",
   "metadata": {},
   "outputs": [],
   "source": [
    "from playwright.async_api import async_playwright\n",
    "import asyncio\n",
    "\n",
    "from datetime import datetime, timedelta"
   ]
  },
  {
   "cell_type": "markdown",
   "id": "7017de13-e30c-47a0-89fc-f8e515b56029",
   "metadata": {},
   "source": [
    "### Helper function for get real publish time. \n",
    "### Convert Bangla number into English Number"
   ]
  },
  {
   "cell_type": "code",
   "execution_count": 5,
   "id": "6110a760-b938-403c-8cb6-416e2043cba3",
   "metadata": {},
   "outputs": [],
   "source": [
    "# Mapping Bengali digits to English\n",
    "bn_digit_map = {\n",
    "    '০': '0', '১': '1', '২': '2', '৩': '3', '৪': '4',\n",
    "    '৫': '5', '৬': '6', '৭': '7', '৮': '8', '৯': '9'\n",
    "}\n",
    "\n",
    "def bn_to_en_digits(bn_str):\n",
    "    return ''.join([bn_digit_map.get(ch, ch) for ch in bn_str])\n",
    "    \n",
    "###########################################################################\n",
    "# Function for convert bangla time english and return real published time    \n",
    "###########################################################################\n",
    "\n",
    "def parse_bengali_relative_time(bn_time_str):\n",
    "    if \"No time found\" in bn_time_str:\n",
    "        return \"No time found\"\n",
    "        \n",
    "    now = datetime.now()\n",
    "    \n",
    "    bn_time_str = bn_time_str.strip()\n",
    "    \n",
    "    # Extract number\n",
    "    num_str = ''.join([bn_digit_map.get(ch, ch) for ch in bn_time_str if ch in bn_digit_map or ch.isdigit()])\n",
    "    num = int(num_str) if num_str else 0\n",
    "\n",
    "    if 'সেকেন্ড' in bn_time_str:\n",
    "        delta = timedelta(seconds=num)\n",
    "    elif 'মিনিট' in bn_time_str:\n",
    "        delta = timedelta(minutes=num)\n",
    "    elif 'ঘণ্টা' in bn_time_str:\n",
    "        delta = timedelta(hours=num)\n",
    "    elif 'দিন' in bn_time_str:\n",
    "        delta = timedelta(days=num)\n",
    "    else:\n",
    "        delta = timedelta()  # fallback\n",
    "\n",
    "    return now - delta"
   ]
  },
  {
   "cell_type": "code",
   "execution_count": 7,
   "id": "9d181a66-2c6e-406f-9b20-3fa27a16ee7d",
   "metadata": {},
   "outputs": [],
   "source": [
    "async def fetch_with_playwright():\n",
    "    news_list = []\n",
    "    async with async_playwright() as p:\n",
    "        browser = await p.chromium.launch(headless=False)\n",
    "        \n",
    "        page = await browser.new_page()\n",
    "        await page.set_extra_http_headers({\n",
    "            \"User-Agent\": \"Mozilla/5.0 (Windows NT 10.0; Win64; x64) AppleWebKit/537.36 (KHTML, like Gecko) Chrome/134.0.0.0 Safari/537.36\"\n",
    "        })\n",
    "        await page.goto(\"https://www.prothomalo.com/collection/latest\", timeout=60000)\n",
    "        await page.wait_for_selector(\"#container\", timeout=15000)\n",
    "        #Wait for a card to appear inside container\n",
    "        await page.wait_for_selector(\"#container div.news_with_item\", timeout=10000)\n",
    "        elements = await page.locator(\"h3.headline-title\").all()\n",
    "        for el in elements:\n",
    "            link_el  =  el.locator(\"a.title-link\")\n",
    "            href = await link_el.get_attribute(\"href\")\n",
    "            title = (await el.inner_text()).strip()\n",
    "            # Get the nearest ancestor or surrounding time tag with class 'published-time'\n",
    "            time_locator = el.locator(\"xpath=following::time[contains(@class, 'published-time')]\")\n",
    "        \n",
    "            # Check if it exists\n",
    "            if await time_locator.count() > 0:\n",
    "                published_time = await time_locator.first.inner_text()\n",
    "            else:\n",
    "                published_time = \"No time found\"\n",
    "            print(\"published_time\", published_time, title)\n",
    "            news_list.append((title, href, published_time))\n",
    "            \n",
    "        await browser.close()\n",
    "    return news_list\n",
    "        #for i in range(articles.count())\n",
    "     "
   ]
  },
  {
   "cell_type": "code",
   "execution_count": null,
   "id": "81dd70af-0ce6-465a-897a-aeec1f81c42b",
   "metadata": {},
   "outputs": [],
   "source": []
  },
  {
   "cell_type": "code",
   "execution_count": 10,
   "id": "279e3bbf-2fa9-448b-b43e-a427b415bbde",
   "metadata": {
    "scrolled": true
   },
   "outputs": [
    {
     "name": "stdout",
     "output_type": "stream",
     "text": [
      "published_time ৯ মিনিট আগে গ্রীষ্মেও এভাবে হাতের চামড়া উঠছে?\n",
      "published_time ৯ মিনিট আগে মধ্যরাতে মিরপুর ১ নম্বরে দুই পক্ষের গোলাগুলি, আহত ৩\n",
      "published_time ১৯ মিনিট আগে ছয় দফা দাবিতে পলিটেকনিক শিক্ষার্থীদের সড়ক অবরোধ\n",
      "published_time ২০ মিনিট আগে বন্দী করে টাকা আদায়, এরপর তোলা হয় মালয়েশিয়াগামী নৌকায়\n",
      "published_time ২৩ মিনিট আগে ৪ ঘণ্টা পরও সড়ক ছাড়েননি পলিটেকনিকের শিক্ষার্থীরা, সাতরাস্তাসহ আশপাশে তীব্র যানজট\n",
      "published_time ২৬ মিনিট আগে ৪ ঘণ্টা পরও সড়ক ছাড়েননি পলিটেকনিকের শিক্ষার্থীরা, সাতরাস্তাসহ আশপাশে তীব্র যানজট\n",
      "published_time ২৬ মিনিট আগে যে বিরল খনিজ নিয়ে যুক্তরাষ্ট্র-চীন দ্বন্দ্ব, তা পাওয়ার সম্ভাবনা বাংলাদেশে\n",
      "published_time ২৬ মিনিট আগে ২ জুন বাজেট দেবে অন্তর্বর্তী সরকার\n",
      "published_time ২৬ মিনিট আগে ২৩ হাজার কোটি টাকায় চার লেন হচ্ছে মহাসড়কটি, তবু থাকছে দুর্ঘটনার ঝুঁকি\n",
      "published_time ২৬ মিনিট আগে রাজনীতিতে আসা ভুল ছিল না, নির্বাচন করলে আবার জিতব: সাকিব\n",
      "published_time ২৬ মিনিট আগে মার্কিন উপসহকারী পররাষ্ট্রমন্ত্রীর সঙ্গে বিএনপি, জামায়াত, এনসিপির সৌজন্য সাক্ষাৎ আজ\n",
      "published_time ২৯ মিনিট আগে মৃত্যুবার্ষিকী তিতাসপাড়ে অদ্বৈত মল্লবর্মণ\n",
      "published_time ৩৪ মিনিট আগে ২ জুন বাজেট দেবে অন্তর্বর্তী সরকার\n",
      "published_time ৩৭ মিনিট আগে আবার রিমান্ডে মামুন, জ্যাকব, নেওয়াজ ও হাসান\n",
      "published_time ৩৭ মিনিট আগে আগামী পাঁচ দিন বৃষ্টির পূর্বাভাস নিয়ে যা বলল আবহাওয়া অফিস\n",
      "published_time ৪৪ মিনিট আগে দুই চোখ খুঁজেছি নক্ষত্রে আমি\n",
      "published_time ৪৭ মিনিট আগে রাজনীতিতে আসা ভুল ছিল না, নির্বাচন করলে আবার জিতব: সাকিব\n",
      "published_time ৫০ মিনিট আগে গার্মেন্টস শ্রমিক ফ্রন্টের নেতাকে বাসা থেকে আটক করেছে যৌথ বাহিনী\n",
      "published_time ৫১ মিনিট আগে হুমকি পেয়ে সন্ধ্যায় থানায় জিডি, রাতে আগুনে পুড়ল ভাস্কর মানবেন্দ্রর বাড়ি\n",
      "published_time ১ ঘণ্টা আগে জাহাঙ্গীরনগর বিশ্ববিদ্যালয়ে ভর্তি পরীক্ষা, প্রথম মেধাতালিকা প্রকাশ\n",
      "published_time ১ ঘণ্টা আগে ২৩ হাজার কোটি টাকায় চার লেন হচ্ছে মহাসড়কটি, তবু থাকছে দুর্ঘটনার ঝুঁকি\n",
      "published_time ১ ঘণ্টা আগে কোরআনের কাহিনি: স্বজাতিকে বাঁচাতে চাইল যে কাঠমিস্ত্রি\n",
      "published_time ১ ঘণ্টা আগে পানি উন্নয়ন বোর্ডের ২৭৭ পদের আবেদন শেষ কাল\n",
      "published_time ১ ঘণ্টা আগে আজকের বিনিময় হার\n",
      "published_time ১ ঘণ্টা আগে প্রধান উপদেষ্টার সঙ্গে বৈঠক করতে বিএনপির প্রতিনিধিদল যমুনায়\n"
     ]
    }
   ],
   "source": [
    "news_list = await fetch_with_playwright() \n",
    "#print(news_list)"
   ]
  },
  {
   "cell_type": "code",
   "execution_count": 11,
   "id": "debe4c55-ec10-4bb6-a95b-6841c775a9c7",
   "metadata": {},
   "outputs": [
    {
     "name": "stdout",
     "output_type": "stream",
     "text": [
      "গ্রীষ্মেও এভাবে হাতের চামড়া উঠছে? ৯ মিনিট আগে\n",
      "published_time 2025-04-16 14:06:58.404948\n",
      "Inserted: গ্রীষ্মেও এভাবে হাতের চামড়া উঠছে?\n",
      "মধ্যরাতে মিরপুর ১ নম্বরে দুই পক্ষের গোলাগুলি, আহত ৩ ৯ মিনিট আগে\n",
      "published_time 2025-04-16 14:06:58.432950\n",
      "Inserted: মধ্যরাতে মিরপুর ১ নম্বরে দুই পক্ষের গোলাগুলি, আহত ৩\n",
      "ছয় দফা দাবিতে পলিটেকনিক শিক্ষার্থীদের সড়ক অবরোধ ১৯ মিনিট আগে\n",
      "published_time 2025-04-16 13:56:58.437951\n",
      "Already Exits ছয় দফা দাবিতে পলিটেকনিক শিক্ষার্থীদের সড়ক অবরোধ\n",
      "বন্দী করে টাকা আদায়, এরপর তোলা হয় মালয়েশিয়াগামী নৌকায় ২০ মিনিট আগে\n",
      "published_time 2025-04-16 13:55:58.441950\n",
      "Already Exits বন্দী করে টাকা আদায়, এরপর তোলা হয় মালয়েশিয়াগামী নৌকায়\n",
      "৪ ঘণ্টা পরও সড়ক ছাড়েননি পলিটেকনিকের শিক্ষার্থীরা, সাতরাস্তাসহ আশপাশে তীব্র যানজট ২৩ মিনিট আগে\n",
      "published_time 2025-04-16 13:52:58.444950\n",
      "Already Exits ৪ ঘণ্টা পরও সড়ক ছাড়েননি পলিটেকনিকের শিক্ষার্থীরা, সাতরাস্তাসহ আশপাশে তীব্র যানজট\n",
      "৪ ঘণ্টা পরও সড়ক ছাড়েননি পলিটেকনিকের শিক্ষার্থীরা, সাতরাস্তাসহ আশপাশে তীব্র যানজট ২৬ মিনিট আগে\n",
      "published_time 2025-04-16 13:49:58.448950\n",
      "Already Exits ৪ ঘণ্টা পরও সড়ক ছাড়েননি পলিটেকনিকের শিক্ষার্থীরা, সাতরাস্তাসহ আশপাশে তীব্র যানজট\n",
      "যে বিরল খনিজ নিয়ে যুক্তরাষ্ট্র-চীন দ্বন্দ্ব, তা পাওয়ার সম্ভাবনা বাংলাদেশে ২৬ মিনিট আগে\n",
      "published_time 2025-04-16 13:49:58.451951\n",
      "Already Exits যে বিরল খনিজ নিয়ে যুক্তরাষ্ট্র-চীন দ্বন্দ্ব, তা পাওয়ার সম্ভাবনা বাংলাদেশে\n",
      "২ জুন বাজেট দেবে অন্তর্বর্তী সরকার ২৬ মিনিট আগে\n",
      "published_time 2025-04-16 13:49:58.454951\n",
      "Already Exits ২ জুন বাজেট দেবে অন্তর্বর্তী সরকার\n",
      "২৩ হাজার কোটি টাকায় চার লেন হচ্ছে মহাসড়কটি, তবু থাকছে দুর্ঘটনার ঝুঁকি ২৬ মিনিট আগে\n",
      "published_time 2025-04-16 13:49:58.457951\n",
      "Already Exits ২৩ হাজার কোটি টাকায় চার লেন হচ্ছে মহাসড়কটি, তবু থাকছে দুর্ঘটনার ঝুঁকি\n",
      "রাজনীতিতে আসা ভুল ছিল না, নির্বাচন করলে আবার জিতব: সাকিব ২৬ মিনিট আগে\n",
      "published_time 2025-04-16 13:49:58.460953\n",
      "Already Exits রাজনীতিতে আসা ভুল ছিল না, নির্বাচন করলে আবার জিতব: সাকিব\n",
      "মার্কিন উপসহকারী পররাষ্ট্রমন্ত্রীর সঙ্গে বিএনপি, জামায়াত, এনসিপির সৌজন্য সাক্ষাৎ আজ ২৬ মিনিট আগে\n",
      "published_time 2025-04-16 13:49:58.465954\n",
      "Already Exits মার্কিন উপসহকারী পররাষ্ট্রমন্ত্রীর সঙ্গে বিএনপি, জামায়াত, এনসিপির সৌজন্য সাক্ষাৎ আজ\n",
      "মৃত্যুবার্ষিকী তিতাসপাড়ে অদ্বৈত মল্লবর্মণ ২৯ মিনিট আগে\n",
      "published_time 2025-04-16 13:46:58.469952\n",
      "Already Exits মৃত্যুবার্ষিকী তিতাসপাড়ে অদ্বৈত মল্লবর্মণ\n",
      "২ জুন বাজেট দেবে অন্তর্বর্তী সরকার ৩৪ মিনিট আগে\n",
      "published_time 2025-04-16 13:41:58.471952\n",
      "Already Exits ২ জুন বাজেট দেবে অন্তর্বর্তী সরকার\n",
      "আবার রিমান্ডে মামুন, জ্যাকব, নেওয়াজ ও হাসান ৩৭ মিনিট আগে\n",
      "published_time 2025-04-16 13:38:58.474952\n",
      "Already Exits আবার রিমান্ডে মামুন, জ্যাকব, নেওয়াজ ও হাসান\n",
      "আগামী পাঁচ দিন বৃষ্টির পূর্বাভাস নিয়ে যা বলল আবহাওয়া অফিস ৩৭ মিনিট আগে\n",
      "published_time 2025-04-16 13:38:58.479955\n",
      "Already Exits আগামী পাঁচ দিন বৃষ্টির পূর্বাভাস নিয়ে যা বলল আবহাওয়া অফিস\n",
      "দুই চোখ খুঁজেছি নক্ষত্রে আমি ৪৪ মিনিট আগে\n",
      "published_time 2025-04-16 13:31:58.484957\n",
      "Already Exits দুই চোখ খুঁজেছি নক্ষত্রে আমি\n",
      "রাজনীতিতে আসা ভুল ছিল না, নির্বাচন করলে আবার জিতব: সাকিব ৪৭ মিনিট আগে\n",
      "published_time 2025-04-16 13:28:58.496955\n",
      "Already Exits রাজনীতিতে আসা ভুল ছিল না, নির্বাচন করলে আবার জিতব: সাকিব\n",
      "গার্মেন্টস শ্রমিক ফ্রন্টের নেতাকে বাসা থেকে আটক করেছে যৌথ বাহিনী ৫০ মিনিট আগে\n",
      "published_time 2025-04-16 13:25:58.507956\n",
      "Already Exits গার্মেন্টস শ্রমিক ফ্রন্টের নেতাকে বাসা থেকে আটক করেছে যৌথ বাহিনী\n",
      "হুমকি পেয়ে সন্ধ্যায় থানায় জিডি, রাতে আগুনে পুড়ল ভাস্কর মানবেন্দ্রর বাড়ি ৫১ মিনিট আগে\n",
      "published_time 2025-04-16 13:24:58.510478\n",
      "Already Exits হুমকি পেয়ে সন্ধ্যায় থানায় জিডি, রাতে আগুনে পুড়ল ভাস্কর মানবেন্দ্রর বাড়ি\n",
      "জাহাঙ্গীরনগর বিশ্ববিদ্যালয়ে ভর্তি পরীক্ষা, প্রথম মেধাতালিকা প্রকাশ ১ ঘণ্টা আগে\n",
      "published_time 2025-04-16 13:15:58.513470\n",
      "Already Exits জাহাঙ্গীরনগর বিশ্ববিদ্যালয়ে ভর্তি পরীক্ষা, প্রথম মেধাতালিকা প্রকাশ\n",
      "২৩ হাজার কোটি টাকায় চার লেন হচ্ছে মহাসড়কটি, তবু থাকছে দুর্ঘটনার ঝুঁকি ১ ঘণ্টা আগে\n",
      "published_time 2025-04-16 13:15:58.516469\n",
      "Already Exits ২৩ হাজার কোটি টাকায় চার লেন হচ্ছে মহাসড়কটি, তবু থাকছে দুর্ঘটনার ঝুঁকি\n",
      "কোরআনের কাহিনি: স্বজাতিকে বাঁচাতে চাইল যে কাঠমিস্ত্রি ১ ঘণ্টা আগে\n",
      "published_time 2025-04-16 13:15:58.518470\n",
      "Already Exits কোরআনের কাহিনি: স্বজাতিকে বাঁচাতে চাইল যে কাঠমিস্ত্রি\n",
      "পানি উন্নয়ন বোর্ডের ২৭৭ পদের আবেদন শেষ কাল ১ ঘণ্টা আগে\n",
      "published_time 2025-04-16 13:15:58.521467\n",
      "Already Exits পানি উন্নয়ন বোর্ডের ২৭৭ পদের আবেদন শেষ কাল\n",
      "আজকের বিনিময় হার ১ ঘণ্টা আগে\n",
      "published_time 2025-04-16 13:15:58.524468\n",
      "Already Exits আজকের বিনিময় হার\n",
      "প্রধান উপদেষ্টার সঙ্গে বৈঠক করতে বিএনপির প্রতিনিধিদল যমুনায় ১ ঘণ্টা আগে\n",
      "published_time 2025-04-16 13:15:58.526471\n",
      "Already Exits প্রধান উপদেষ্টার সঙ্গে বৈঠক করতে বিএনপির প্রতিনিধিদল যমুনায়\n"
     ]
    }
   ],
   "source": [
    "from pymongo import MongoClient\n",
    "\n",
    "client = MongoClient(\"mongodb://localhost:27017/\") # need to on env. for local can't do it right now.\n",
    "db = client[\"bd-newspaper-collection\"]\n",
    "\n",
    "collection = db[\"articles\"]\n",
    "\n",
    "for title,url, published_time in news_list:\n",
    "    print(title,published_time )\n",
    "    published_time = parse_bengali_relative_time(published_time)\n",
    "    print(\"published_time\",published_time)\n",
    "    if not collection.find_one({\"url\": url}):\n",
    "        \n",
    "        collection.insert_one({\n",
    "            \"title\": title,\n",
    "            \"url\": url,\n",
    "            \"published_time\": published_time,\n",
    "            \"media_name\": \"prothomalo\",\n",
    "            \"scraped_at\": datetime.now()\n",
    "        })\n",
    "        print(f\"Inserted: {title}\")\n",
    "    else:\n",
    "        print(f\"Already Exits {title}\")\n"
   ]
  },
  {
   "cell_type": "code",
   "execution_count": 14,
   "id": "fb29b6f5-63ad-414d-9a0d-fc31e9ce149b",
   "metadata": {},
   "outputs": [
    {
     "data": {
      "text/plain": [
       "25"
      ]
     },
     "execution_count": 14,
     "metadata": {},
     "output_type": "execute_result"
    }
   ],
   "source": [
    "len(news_list)"
   ]
  },
  {
   "cell_type": "markdown",
   "id": "bfb8c79e-d234-4f11-8c5e-013555d46618",
   "metadata": {},
   "source": [
    "## This Portion is going to capture highest read article and selected news by prothom alo"
   ]
  },
  {
   "cell_type": "code",
   "execution_count": null,
   "id": "f4daaeab-d0fd-4fb0-a323-735d22d2309b",
   "metadata": {},
   "outputs": [],
   "source": []
  }
 ],
 "metadata": {
  "kernelspec": {
   "display_name": "Python 3 (ipykernel)",
   "language": "python",
   "name": "python3"
  },
  "language_info": {
   "codemirror_mode": {
    "name": "ipython",
    "version": 3
   },
   "file_extension": ".py",
   "mimetype": "text/x-python",
   "name": "python",
   "nbconvert_exporter": "python",
   "pygments_lexer": "ipython3",
   "version": "3.12.4"
  }
 },
 "nbformat": 4,
 "nbformat_minor": 5
}
