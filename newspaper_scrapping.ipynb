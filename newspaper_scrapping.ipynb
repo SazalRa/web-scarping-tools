{
 "cells": [
  {
   "cell_type": "code",
   "execution_count": 1,
   "id": "b6a261ce-c153-4ab0-8aa0-1d0fe9b1a36d",
   "metadata": {},
   "outputs": [],
   "source": [
    "from playwright.async_api import async_playwright\n",
    "import asyncio"
   ]
  },
  {
   "cell_type": "code",
   "execution_count": 2,
   "id": "9d181a66-2c6e-406f-9b20-3fa27a16ee7d",
   "metadata": {},
   "outputs": [],
   "source": [
    "async def fetch_with_playwright():\n",
    "    news_list = []\n",
    "    async with async_playwright() as p:\n",
    "        browser = await p.chromium.launch(headless=False)\n",
    "        \n",
    "        page = await browser.new_page()\n",
    "        await page.set_extra_http_headers({\n",
    "            \"User-Agent\": \"Mozilla/5.0 (Windows NT 10.0; Win64; x64) AppleWebKit/537.36 (KHTML, like Gecko) Chrome/134.0.0.0 Safari/537.36\"\n",
    "        })\n",
    "        await page.goto(\"https://www.prothomalo.com/collection/latest\", timeout=60000)\n",
    "        await page.wait_for_selector(\"#container\", timeout=15000)\n",
    "        #Wait for a card to appear inside container\n",
    "        await page.wait_for_selector(\"#container div.news_with_item\", timeout=10000)\n",
    "        elements = await page.locator(\"h3.headline-title\").all()\n",
    "        for el in elements:\n",
    "            link_el  =  el.locator(\"a.title-link\")\n",
    "            href = await link_el.get_attribute(\"href\")\n",
    "            title = (await el.inner_text()).strip()\n",
    "            news_list.append((title, href))\n",
    "            \n",
    "        await browser.close()\n",
    "    return news_list\n",
    "        #for i in range(articles.count())\n",
    "     "
   ]
  },
  {
   "cell_type": "code",
   "execution_count": null,
   "id": "81dd70af-0ce6-465a-897a-aeec1f81c42b",
   "metadata": {},
   "outputs": [],
   "source": []
  },
  {
   "cell_type": "code",
   "execution_count": 3,
   "id": "279e3bbf-2fa9-448b-b43e-a427b415bbde",
   "metadata": {},
   "outputs": [],
   "source": [
    "news_list = await fetch_with_playwright() \n",
    "#print(news_list)"
   ]
  },
  {
   "cell_type": "code",
   "execution_count": 4,
   "id": "debe4c55-ec10-4bb6-a95b-6841c775a9c7",
   "metadata": {},
   "outputs": [
    {
     "name": "stdout",
     "output_type": "stream",
     "text": [
      "Inserted: গণহত্যা বন্ধের দাবিতে নর্থ সাউথসহ চার বেসরকারি বিশ্ববিদ্যালয়ে বিক্ষোভ\n",
      "Inserted: মেরিল ক্যাফে লাইভ প্রশংসিত হচ্ছে অপুর অভিনয়\n",
      "Inserted: হত্যা মামলায় ৭ দিনের রিমান্ডে সাবেক এমপি আফজাল হোসেন\n",
      "Inserted: বিপন্ন কাছিম রক্ষায় বন্ধ্যা করা হচ্ছে সেন্ট মার্টিন দ্বীপের ৩ হাজার কুকুরকে\n",
      "Inserted: ইসরায়েলের বিরুদ্ধে ওআইসিকে পদক্ষেপ নিতে জামায়াতের আহ্বান\n",
      "Already Exits আশিকুরের মৃত্যু ‘মাথায় গুলি নিয়াই ভাইটা মইরা গেল...চিকিৎসাও পাইল না’\n",
      "Already Exits পাল্টা শুল্ক তিন মাস স্থগিতের অনুরোধ করে ডোনাল্ড ট্রাম্পকে চিঠি দিলেন প্রধান উপদেষ্টা\n",
      "Already Exits ‘আমি নিতান্তই কোনো সংখ্যা হতে চাই না, আমি গাজার এক বাস্তব গল্প’\n",
      "Already Exits মার্কিন শুল্কনীতির ধাক্কায় এশিয়া ও ইউরোপের শেয়ারবাজারে বড় ধস\n",
      "Already Exits ফিলিস্তিনি ভূখণ্ড দখল করে যেভাবে গড়ে উঠল ইসরায়েল রাষ্ট্র\n",
      "Inserted: সরাসরি সচিবালয়মুখী পদযাত্রায় পুলিশের হামলার প্রতিবাদে চাকরিচ্যুত বিডিআর সদস্যদের সংবাদ সম্মেলন\n",
      "Already Exits ‘আমি নিতান্তই কোনো সংখ্যা হতে চাই না, আমি গাজার এক বাস্তব গল্প’\n",
      "Already Exits মুঠোফোনের চার্জার, এয়ারপডে লুকিয়ে আনেন কোটির টাকার সোনা, ধরা পড়লেন যেভাবে\n",
      "Already Exits রাষ্ট্রপতি পুলিশ পদক পাচ্ছেন সেই পুলিশ কনস্টেবল\n",
      "Already Exits অনলাইনে ‘আউটসোর্সিং’ কাজ দেওয়ার কথা বলে করতেন প্রতারণা\n",
      "Already Exits চট্টগ্রাম ও কক্সবাজারে বিক্ষোভ মিছিল থেকে দোকান-রেস্তোরাঁয় হামলা-ভাঙচুর\n",
      "Already Exits চট্টগ্রামে জোড়া খুন ‘সন্ত্রাসী’ সাজ্জাদের আরেক সহযোগী গ্রেপ্তার\n",
      "Already Exits শিশুরা কি সোশ্যাল অ্যাংজাইটিতে বেশি ভোগে?\n",
      "Already Exits মার্চে ১৬৩ জন নারী ও কন্যাশিশু ধর্ষণের শিকার হওয়ার খবর\n",
      "Already Exits বিয়ের প্রলোভনের মাধ্যমে যৌনকর্মে দণ্ডের বিধানের বৈধতা নিয়ে রিট\n",
      "Already Exits হবিগঞ্জে সাবেক সংসদ সদস্য ব্যারিস্টার সুমনের জামিন নামঞ্জুর, কারাগারে প্রেরণ\n",
      "Already Exits আশিকুরের মৃত্যু ‘মাথায় গুলি নিয়াই ভাইটা মইরা গেল...চিকিৎসাও পাইল না’\n",
      "Already Exits মাগুরায় শিশু ধর্ষণ ডিএনএ প্রতিবেদনে মূল অভিযুক্তের সংশ্লিষ্টতার প্রমাণ মিলেছে, শিগগিরই অভিযোগপত্র: রেঞ্জ ডিআইজি\n",
      "Already Exits ভৈরবে ছোট দুই ভাইয়ের মারামারি থামাতে গিয়ে স্বেচ্ছাসেবক দল নেতার মৃত্যু\n",
      "Already Exits মার্কিন শুল্কনীতির ধাক্কায় এশিয়া ও ইউরোপের শেয়ারবাজারে বড় ধস\n"
     ]
    }
   ],
   "source": [
    "from pymongo import MongoClient\n",
    "from datetime import datetime\n",
    "client = MongoClient(\"mongodb://localhost:27017/\") # need to on env. for local can't do it right now.\n",
    "db = client[\"bd-newspaper-collection\"]\n",
    "\n",
    "collection = db[\"articles\"]\n",
    "\n",
    "for title,url in news_list:\n",
    "    if not collection.find_one({\"url\": url}):\n",
    "        collection.insert_one({\n",
    "            \"title\": title,\n",
    "            \"url\": url,\n",
    "            \"media_name\": \"prothomalo\",\n",
    "            \"scraped_at\": datetime.now()\n",
    "        })\n",
    "        print(f\"Inserted: {title}\")\n",
    "    else:\n",
    "        print(f\"Already Exits {title}\")\n"
   ]
  },
  {
   "cell_type": "code",
   "execution_count": 12,
   "id": "fb29b6f5-63ad-414d-9a0d-fc31e9ce149b",
   "metadata": {},
   "outputs": [
    {
     "data": {
      "text/plain": [
       "25"
      ]
     },
     "execution_count": 12,
     "metadata": {},
     "output_type": "execute_result"
    }
   ],
   "source": [
    "len(news_list)"
   ]
  },
  {
   "cell_type": "code",
   "execution_count": null,
   "id": "2ddd8709-2cfd-4598-bc3a-a75a8506a432",
   "metadata": {},
   "outputs": [],
   "source": []
  }
 ],
 "metadata": {
  "kernelspec": {
   "display_name": "Python 3 (ipykernel)",
   "language": "python",
   "name": "python3"
  },
  "language_info": {
   "codemirror_mode": {
    "name": "ipython",
    "version": 3
   },
   "file_extension": ".py",
   "mimetype": "text/x-python",
   "name": "python",
   "nbconvert_exporter": "python",
   "pygments_lexer": "ipython3",
   "version": "3.12.4"
  }
 },
 "nbformat": 4,
 "nbformat_minor": 5
}
